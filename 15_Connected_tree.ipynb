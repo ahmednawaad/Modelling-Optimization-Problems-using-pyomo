{
 "cells": [
  {
   "cell_type": "markdown",
   "metadata": {},
   "source": [
    "![](Images/2022-12-01-15-49-32.png)"
   ]
  },
  {
   "cell_type": "markdown",
   "metadata": {},
   "source": [
    "## We want to connect the points without any loops\n",
    "* U_i_j    = the connection between point i and point j is a binary variable exist or not\n",
    "* D_i_j    = the Demand between point i and point j\n",
    "* flow_i_j = Distance between point i and point j\n",
    "* G_i      = Generation (Production)of node i\n",
    "* M        = Number of points\n",
    "\n",
    "![](Images/2022-12-01-15-55-53.png)"
   ]
  },
  {
   "cell_type": "code",
   "execution_count": 1,
   "metadata": {},
   "outputs": [],
   "source": [
    "import pyomo.environ as pyo\n",
    "import numpy as np\n",
    "import matplotlib.pyplot as plt\n",
    "import random"
   ]
  },
  {
   "cell_type": "code",
   "execution_count": 122,
   "metadata": {},
   "outputs": [
    {
     "name": "stdout",
     "output_type": "stream",
     "text": [
      "WARNING: Constructing RangeSet 'I' from non-constant data (e.g., Var or\n",
      "    mutable Param).  The linkage between this RangeSet and the original source\n",
      "    data will be broken, so updating the data value in the future will not be\n",
      "    reflected in this RangeSet.  To suppress this warning, explicitly convert\n",
      "    the source data to a constant type (e.g., float, int, or immutable Param)\n"
     ]
    },
    {
     "name": "stderr",
     "output_type": "stream",
     "text": [
      "C:\\Users\\20100\\AppData\\Local\\Temp\\ipykernel_11372\\1040060346.py:37: DeprecationWarning: Calling np.sum(generator) is deprecated, and in the future will give a different result. Use np.sum(np.fromiter(generator)) or the python sum builtin instead.\n",
      "  return np.sum(model.U[i,j] * model.D[i,j] for i in model.I for j in model.J)\n"
     ]
    },
    {
     "name": "stdout",
     "output_type": "stream",
     "text": [
      "# ==========================================================\n",
      "# = Solver Results                                         =\n",
      "# ==========================================================\n",
      "# ----------------------------------------------------------\n",
      "#   Problem Information\n",
      "# ----------------------------------------------------------\n",
      "Problem: \n",
      "- Name: unknown\n",
      "  Lower bound: 1.83627632945057\n",
      "  Upper bound: 1.83627632945057\n",
      "  Number of objectives: 1\n",
      "  Number of constraints: 73\n",
      "  Number of variables: 130\n",
      "  Number of nonzeros: 242\n",
      "  Sense: minimize\n",
      "# ----------------------------------------------------------\n",
      "#   Solver Information\n",
      "# ----------------------------------------------------------\n",
      "Solver: \n",
      "- Status: ok\n",
      "  Termination condition: optimal\n",
      "  Statistics: \n",
      "    Branch and bound: \n",
      "      Number of bounded subproblems: 1043\n",
      "      Number of created subproblems: 1043\n",
      "  Error rc: 0\n",
      "  Time: 0.20499801635742188\n",
      "# ----------------------------------------------------------\n",
      "#   Solution Information\n",
      "# ----------------------------------------------------------\n",
      "Solution: \n",
      "- number of solutions: 0\n",
      "  number of solutions displayed: 0\n"
     ]
    }
   ],
   "source": [
    "# initialize the model\n",
    "model = pyo.AbstractModel()\n",
    "\n",
    "# # initialize the parameters and the variables\n",
    "model.M = pyo.Param(mutable=True, default=8)\n",
    "model.I = pyo.RangeSet(1, model.M)\n",
    "model.J = pyo.Set(initialize=model.I)\n",
    "\n",
    "## Initiate points randomly\n",
    "def initval(model, i):\n",
    "    return random.uniform(0.001,1)\n",
    "model.x_loc = pyo.Param(model.I, within=pyo.NonNegativeReals, initialize=initval, mutable=True)\n",
    "model.y_loc = pyo.Param(model.I, within=pyo.NonNegativeReals, initialize=initval, mutable=True)\n",
    "\n",
    "def dis_rule(model, i, j):\n",
    "    return pyo.sqrt((model.x_loc[i] - model.x_loc[j])**2 + (model.y_loc[i] - model.y_loc[j])**2)\n",
    "model.D = pyo.Param(model.I, model.J, within=pyo.NonNegativeReals, initialize=dis_rule, mutable=True)\n",
    "\n",
    "model.U = pyo.Var(model.I, model.J, within=pyo.Binary, initialize=1)\n",
    "model.flow = pyo.Var(model.I, model.J, within=pyo.NonNegativeReals)\n",
    "model.G = pyo.Var(bounds=(0, model.M), within=pyo.NonNegativeReals)\n",
    "\n",
    "\n",
    "# # # Constraint Declarations\n",
    "def con_1_rule(model, i):\n",
    "    if i == 1:\n",
    "        return model.G -i /model.M ==sum(model.flow[i,j] - model.flow[j,i] if i!=j else 0 for j in model.J)\n",
    "    else:\n",
    "        return         -i /model.M ==sum(model.flow[i,j] - model.flow[j,i]  if i!=j else 0 for j in model.J)\n",
    "model.c1 = pyo.Constraint(model.I, rule = con_1_rule)\n",
    "\n",
    "def con_2_rule(model, i, j):\n",
    "    return model.flow[j,i] <= model.U[i,j]*model.M\n",
    "model.c2 = pyo.Constraint(model.I, model.J, rule=con_2_rule)\n",
    "\n",
    "\n",
    "def OF_rule(model):\n",
    "    return np.sum(model.U[i,j] * model.D[i,j] for i in model.I for j in model.J)\n",
    "model.OF = pyo.Objective(rule= OF_rule, sense=pyo.minimize)\n",
    "\n",
    "# Define the solver\n",
    "solver = pyo.SolverFactory('glpk')\n",
    "instance = model.create_instance()\n",
    "results = solver.solve(instance)\n",
    "\n",
    "# write the results\n",
    "results.write()"
   ]
  },
  {
   "cell_type": "code",
   "execution_count": 123,
   "metadata": {},
   "outputs": [
    {
     "data": {
      "image/png": "[encoded data removed]",
      "text/plain": [
       "<Figure size 432x288 with 1 Axes>"
      ]
     },
     "metadata": {
      "needs_background": "light"
     },
     "output_type": "display_data"
    }
   ],
   "source": [
    "for i in instance.I:\n",
    "    plt.scatter(pyo.value(instance.x_loc[i]), pyo.value(instance.y_loc[i]))\n",
    "    plt.plot(pyo.value(instance.x_loc[i]), pyo.value(instance.y_loc[i]))\n",
    "    for j in  instance.J:\n",
    "        if i != j:\n",
    "            if pyo.value(instance.U[i, j])== 1:\n",
    "                plt.plot( [ pyo.value(instance.x_loc[i]), pyo.value(instance.x_loc[j]) ], [ pyo.value(instance.y_loc[i]), pyo.value(instance.y_loc[j]) ])\n"
   ]
  },
  {
   "cell_type": "code",
   "execution_count": null,
   "metadata": {},
   "outputs": [],
   "source": []
  }
 ],
 "metadata": {
  "kernelspec": {
   "display_name": "Python 3.8.13 ('main')",
   "language": "python",
   "name": "python3"
  },
  "language_info": {
   "codemirror_mode": {
    "name": "ipython",
    "version": 3
   },
   "file_extension": ".py",
   "mimetype": "text/x-python",
   "name": "python",
   "nbconvert_exporter": "python",
   "pygments_lexer": "ipython3",
   "version": "3.8.13"
  },
  "orig_nbformat": 4,
  "vscode": {
   "interpreter": {
    "hash": "3d91bbcd4f95c7d97193a2aece1bb930d54f2706bb0dcd2806281006b61a3a38"
   }
  }
 },
 "nbformat": 4,
 "nbformat_minor": 2
}
