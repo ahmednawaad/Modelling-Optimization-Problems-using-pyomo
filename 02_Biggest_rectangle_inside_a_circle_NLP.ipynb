{
 "cells": [
  {
   "cell_type": "markdown",
   "metadata": {},
   "source": [
    "# Biggest Rectangle Inside a Circle\n",
    "![](Images\\2022-11-25-17-39-10.png)"
   ]
  },
  {
   "cell_type": "code",
   "execution_count": 4,
   "metadata": {},
   "outputs": [],
   "source": [
    "# Import pyomo\n",
    "from pyomo.environ import *"
   ]
  },
  {
   "cell_type": "code",
   "execution_count": 8,
   "metadata": {},
   "outputs": [
    {
     "name": "stdout",
     "output_type": "stream",
     "text": [
      "Feasible\n",
      "x:  7.0710678118654755\n",
      "y:  7.0710678118654755\n",
      "OF:  200.00000000000003\n"
     ]
    }
   ],
   "source": [
    "# Building the model\n",
    "# 1- initialize the model\n",
    "model = ConcreteModel()\n",
    "\n",
    "# 2- Define the variables(defining the bounds if it exists) and parameters\n",
    "model.R = Param(initialize=10)\n",
    "model.x = Var(bounds=(0,model.R), initialize=model.R)  # you can initialize the variables or not\n",
    "model.y = Var(bounds=(0,model.R))\n",
    "\n",
    "# 3- Define the constraints\n",
    "model.con1 = Constraint(expr=model.x**2+model.y**2==model.R**2)\n",
    "\n",
    "# 4- Define the Objective Function\n",
    "model.OF = Objective(expr=4*model.x*model.y, sense=maximize)\n",
    "\n",
    "# Solve the problem\n",
    "# 1- Define the solver\n",
    "opt = SolverFactory('ipopt')\n",
    "\n",
    "# 2- if the problem is Abstract we have to create instance\n",
    "# pass Concrete problem\n",
    "\n",
    "# 3- Solve the problem\n",
    "results = opt.solve(model)\n",
    "\n",
    "# check if the solution is feasible or not\n",
    "if (results.solver.status == SolverStatus.ok) and (results.solver.termination_condition == TerminationCondition.optimal):\n",
    "    print('Feasible')\n",
    "else:\n",
    "    print(results.solver.status)\n",
    "\n",
    "# print the results\n",
    "print('x: ', value(model.x) )\n",
    "print('y: ', value(model.y) )\n",
    "print('OF: ', value(model.OF) )\n"
   ]
  },
  {
   "cell_type": "code",
   "execution_count": 11,
   "metadata": {},
   "outputs": [
    {
     "name": "stdout",
     "output_type": "stream",
     "text": [
      "x:  1\n",
      "y:  9.9498743710662\n",
      "OF:  39.7994974842648\n"
     ]
    }
   ],
   "source": [
    "# fix x value with 1\n",
    "model.x.fix(1)\n",
    "results = opt.solve(model)\n",
    "\n",
    "# print the results\n",
    "print('x: ', value(model.x) )\n",
    "print('y: ', value(model.y) )\n",
    "print('OF: ', value(model.OF) )"
   ]
  },
  {
   "cell_type": "code",
   "execution_count": 12,
   "metadata": {},
   "outputs": [
    {
     "name": "stdout",
     "output_type": "stream",
     "text": [
      "x:  9.94987437138958\n",
      "y:  1\n",
      "OF:  39.79949748555832\n"
     ]
    }
   ],
   "source": [
    "# unfix x value and fix y value with 1\n",
    "model.x.unfix()\n",
    "model.y.fix(1)\n",
    "results = opt.solve(model)\n",
    "\n",
    "# print the results\n",
    "print('x: ', value(model.x) )\n",
    "print('y: ', value(model.y) )\n",
    "print('OF: ', value(model.OF) )"
   ]
  },
  {
   "cell_type": "code",
   "execution_count": 14,
   "metadata": {},
   "outputs": [
    {
     "name": "stdout",
     "output_type": "stream",
     "text": [
      "x:  7.0710678118654755\n",
      "y:  7.0710678118654755\n",
      "OF:  200.00000000000003\n"
     ]
    }
   ],
   "source": [
    "# unfix x value and unfix y value\n",
    "model.x.unfix()\n",
    "model.y.unfix()\n",
    "results = opt.solve(model)\n",
    "\n",
    "# print the results\n",
    "print('x: ', value(model.x) )\n",
    "print('y: ', value(model.y) )\n",
    "print('OF: ', value(model.OF) )"
   ]
  },
  {
   "cell_type": "code",
   "execution_count": 15,
   "metadata": {},
   "outputs": [
    {
     "name": "stdout",
     "output_type": "stream",
     "text": [
      "1 Param Declarations\n",
      "    R : Size=1, Index=None, Domain=Any, Default=None, Mutable=False\n",
      "        Key  : Value\n",
      "        None :    10\n",
      "\n",
      "2 Var Declarations\n",
      "    x : Size=1, Index=None\n",
      "        Key  : Lower : Value              : Upper : Fixed : Stale : Domain\n",
      "        None :     0 : 7.0710678118654755 :    10 : False : False :  Reals\n",
      "    y : Size=1, Index=None\n",
      "        Key  : Lower : Value              : Upper : Fixed : Stale : Domain\n",
      "        None :     0 : 7.0710678118654755 :    10 : False : False :  Reals\n",
      "\n",
      "1 Objective Declarations\n",
      "    OF : Size=1, Index=None, Active=True\n",
      "        Key  : Active : Sense    : Expression\n",
      "        None :   True : maximize :      4*x*y\n",
      "\n",
      "1 Constraint Declarations\n",
      "    con1 : Size=1, Index=None, Active=True\n",
      "        Key  : Lower : Body        : Upper : Active\n",
      "        None : 100.0 : x**2 + y**2 : 100.0 :   True\n",
      "\n",
      "5 Declarations: R x y con1 OF\n"
     ]
    }
   ],
   "source": [
    "model.pprint()"
   ]
  },
  {
   "cell_type": "code",
   "execution_count": 16,
   "metadata": {},
   "outputs": [
    {
     "name": "stdout",
     "output_type": "stream",
     "text": [
      "# ==========================================================\n",
      "# = Solver Results                                         =\n",
      "# ==========================================================\n",
      "# ----------------------------------------------------------\n",
      "#   Problem Information\n",
      "# ----------------------------------------------------------\n",
      "Problem: \n",
      "- Lower bound: -inf\n",
      "  Upper bound: inf\n",
      "  Number of objectives: 1\n",
      "  Number of constraints: 1\n",
      "  Number of variables: 2\n",
      "  Sense: unknown\n",
      "# ----------------------------------------------------------\n",
      "#   Solver Information\n",
      "# ----------------------------------------------------------\n",
      "Solver: \n",
      "- Status: ok\n",
      "  Message: Ipopt 3.11.1\\x3a Optimal Solution Found\n",
      "  Termination condition: optimal\n",
      "  Id: 0\n",
      "  Error rc: 0\n",
      "  Time: 0.05236959457397461\n",
      "# ----------------------------------------------------------\n",
      "#   Solution Information\n",
      "# ----------------------------------------------------------\n",
      "Solution: \n",
      "- number of solutions: 0\n",
      "  number of solutions displayed: 0\n"
     ]
    }
   ],
   "source": [
    "results.write()"
   ]
  },
  {
   "cell_type": "code",
   "execution_count": 17,
   "metadata": {},
   "outputs": [
    {
     "data": {
      "text/plain": [
       "{'Problem': [{'Lower bound': -inf, 'Upper bound': inf, 'Number of objectives': 1, 'Number of constraints': 1, 'Number of variables': 2, 'Sense': 'unknown'}], 'Solver': [{'Status': 'ok', 'Message': 'Ipopt 3.11.1\\\\x3a Optimal Solution Found', 'Termination condition': 'optimal', 'Id': 0, 'Error rc': 0, 'Time': 0.05236959457397461}], 'Solution': [OrderedDict([('number of solutions', 0), ('number of solutions displayed', 0)])]}"
      ]
     },
     "execution_count": 17,
     "metadata": {},
     "output_type": "execute_result"
    }
   ],
   "source": [
    "results"
   ]
  },
  {
   "cell_type": "code",
   "execution_count": null,
   "metadata": {},
   "outputs": [],
   "source": []
  }
 ],
 "metadata": {
  "kernelspec": {
   "display_name": "Python 3.8.13 ('main')",
   "language": "python",
   "name": "python3"
  },
  "language_info": {
   "codemirror_mode": {
    "name": "ipython",
    "version": 3
   },
   "file_extension": ".py",
   "mimetype": "text/x-python",
   "name": "python",
   "nbconvert_exporter": "python",
   "pygments_lexer": "ipython3",
   "version": "3.8.13"
  },
  "orig_nbformat": 4,
  "vscode": {
   "interpreter": {
    "hash": "3d91bbcd4f95c7d97193a2aece1bb930d54f2706bb0dcd2806281006b61a3a38"
   }
  }
 },
 "nbformat": 4,
 "nbformat_minor": 2
}
