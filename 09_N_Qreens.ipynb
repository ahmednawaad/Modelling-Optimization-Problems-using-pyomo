{
 "cells": [
  {
   "cell_type": "markdown",
   "metadata": {},
   "source": [
    "![](Images\\2022-11-26-12-01-45.png)\n",
    "* U is the number of queens\n",
    "* i is the column index\n",
    "* j is the row index\n",
    "\n",
    "![](Images\\2022-11-26-12-09-10.png)\n",
    "* for diagonals we need one queen or no queens\n",
    "\n",
    "![](Images\\2022-11-26-12-03-56.png)\n",
    "![](Images\\2022-11-26-12-04-23.png)"
   ]
  },
  {
   "cell_type": "markdown",
   "metadata": {},
   "source": [
    "## The full Mathematical model\n",
    "![](Images\\2022-11-26-12-04-47.png)\n",
    "\n",
    "# we need to know the number of rows and columns i and j "
   ]
  },
  {
   "cell_type": "markdown",
   "metadata": {},
   "source": [
    "Note:\n",
    "* if we define  $\\forall i$ we define the varible i in the function arguments and pass it to the Constraints to loop on it\n",
    "* ![](Images\\2022-11-26-12-58-53.png)\n",
    "* ![](Images\\2022-11-26-12-59-16.png)\n",
    "* but if we have $\\sum_{i} $ we define the variole i inside the function to sum it\n",
    "* ![](Images\\2022-11-26-13-03-29.png)\n",
    "* ![](Images\\2022-11-26-13-03-55.png)"
   ]
  },
  {
   "cell_type": "code",
   "execution_count": 3,
   "metadata": {},
   "outputs": [],
   "source": [
    "import pyomo.environ as pyo\n",
    "import numpy as np"
   ]
  },
  {
   "cell_type": "code",
   "execution_count": 6,
   "metadata": {},
   "outputs": [
    {
     "name": "stdout",
     "output_type": "stream",
     "text": [
      "WARNING: Constructing RangeSet 'I' from non-constant data (e.g., Var or\n",
      "    mutable Param).  The linkage between this RangeSet and the original source\n",
      "    data will be broken, so updating the data value in the future will not be\n",
      "    reflected in this RangeSet.  To suppress this warning, explicitly convert\n",
      "    the source data to a constant type (e.g., float, int, or immutable Param)\n",
      "# ==========================================================\n",
      "# = Solver Results                                         =\n",
      "# ==========================================================\n",
      "# ----------------------------------------------------------\n",
      "#   Problem Information\n",
      "# ----------------------------------------------------------\n",
      "Problem: \n",
      "- Name: unknown\n",
      "  Lower bound: 10.0\n",
      "  Upper bound: 10.0\n",
      "  Number of objectives: 1\n",
      "  Number of constraints: 221\n",
      "  Number of variables: 101\n",
      "  Number of nonzeros: 1541\n",
      "  Sense: maximize\n",
      "# ----------------------------------------------------------\n",
      "#   Solver Information\n",
      "# ----------------------------------------------------------\n",
      "Solver: \n",
      "- Status: ok\n",
      "  Termination condition: optimal\n",
      "  Statistics: \n",
      "    Branch and bound: \n",
      "      Number of bounded subproblems: 13\n",
      "      Number of created subproblems: 13\n",
      "  Error rc: 0\n",
      "  Time: 0.08300232887268066\n",
      "# ----------------------------------------------------------\n",
      "#   Solution Information\n",
      "# ----------------------------------------------------------\n",
      "Solution: \n",
      "- number of solutions: 0\n",
      "  number of solutions displayed: 0\n"
     ]
    },
    {
     "name": "stderr",
     "output_type": "stream",
     "text": [
      "C:\\Users\\20100\\AppData\\Local\\Temp\\ipykernel_11584\\692897948.py:14: DeprecationWarning: Calling np.sum(generator) is deprecated, and in the future will give a different result. Use np.sum(np.fromiter(generator)) or the python sum builtin instead.\n",
      "  return np.sum(model.U[i,j] for j in model.J) <= 1\n",
      "C:\\Users\\20100\\AppData\\Local\\Temp\\ipykernel_11584\\692897948.py:19: DeprecationWarning: Calling np.sum(generator) is deprecated, and in the future will give a different result. Use np.sum(np.fromiter(generator)) or the python sum builtin instead.\n",
      "  return np.sum(model.U[i, j] for i in model.I) <= 1\n",
      "C:\\Users\\20100\\AppData\\Local\\Temp\\ipykernel_11584\\692897948.py:44: DeprecationWarning: Calling np.sum(generator) is deprecated, and in the future will give a different result. Use np.sum(np.fromiter(generator)) or the python sum builtin instead.\n",
      "  return np.sum(model.U[i,j] for i in model.I for j in model.J)\n"
     ]
    }
   ],
   "source": [
    "# initiate the model\n",
    "model = pyo.AbstractModel()\n",
    "\n",
    "# Declare the parameters and variables\n",
    "model.N = pyo.Param(mutable=True, default=10)\n",
    "model.I = pyo.RangeSet(1, model.N)\n",
    "model.J = pyo.Set(initialize=model.I)\n",
    "\n",
    "model.U = pyo.Var(model.I, model.J, within=pyo.Binary, initialize=1)\n",
    "\n",
    "# Decalre the constraints\n",
    "# 1 row check\n",
    "def constraints_1(model, i):\n",
    "    return np.sum(model.U[i,j] for j in model.J) <= 1\n",
    "model.c1 = pyo.Constraint(model.I, rule = constraints_1)\n",
    "\n",
    "# 2 column check\n",
    "def constraints_2(model, j):\n",
    "    return np.sum(model.U[i, j] for i in model.I) <= 1\n",
    "model.c2 = pyo.Constraint(model.J, rule = constraints_2)\n",
    "\n",
    "# 3 First diagonal check\n",
    "def constraints_3(model, i, j):\n",
    "    total_Queen = 0\n",
    "    for r in model.I:\n",
    "        for c in model.J:\n",
    "            if j-c == i-r:\n",
    "                total_Queen+=model.U[c,r]\n",
    "    return total_Queen <=1\n",
    "model.c3 = pyo.Constraint(model.I, model.J, rule = constraints_3)\n",
    "\n",
    "# 4 second diagonal check\n",
    "def constraints_4(model, i, j):\n",
    "    total_Queen = 0\n",
    "    for r in model.I:\n",
    "        for c in model.J:\n",
    "            if j-c == r-i:\n",
    "                total_Queen+=model.U[c,r]\n",
    "    return total_Queen <= 1\n",
    "model.c4 = pyo.Constraint(model.I, model.J, rule=constraints_4)\n",
    "\n",
    "# Declare the objective function\n",
    "def obj_fun(model):\n",
    "    return np.sum(model.U[i,j] for i in model.I for j in model.J)\n",
    "model.OF = pyo.Objective(rule=obj_fun, sense=pyo.maximize )\n",
    "\n",
    "# Define the solver\n",
    "solver = pyo.SolverFactory('glpk')\n",
    "instance = model.create_instance()\n",
    "results = solver.solve(instance)\n",
    "\n",
    "results.write()"
   ]
  },
  {
   "cell_type": "code",
   "execution_count": 27,
   "metadata": {},
   "outputs": [
    {
     "data": {
      "image/png": "[encoded data removed]",
      "text/plain": [
       "<Figure size 720x504 with 1 Axes>"
      ]
     },
     "metadata": {
      "needs_background": "light"
     },
     "output_type": "display_data"
    }
   ],
   "source": [
    "# visualization\n",
    "import matplotlib.pyplot as plt\n",
    "plt.figure(figsize=(10,7))\n",
    "plt.axis('off')\n",
    "\n",
    "for i in instance.I:\n",
    "    for j in instance.J:\n",
    "        plt.scatter(i,j, c='b', s= 5)\n",
    "        # check if there is a queen or not\n",
    "        if pyo.value(instance.U[i,j]) ==1:\n",
    "            plt.scatter(i,j, c='r', s=80, marker='*')"
   ]
  },
  {
   "cell_type": "code",
   "execution_count": null,
   "metadata": {},
   "outputs": [],
   "source": []
  }
 ],
 "metadata": {
  "kernelspec": {
   "display_name": "Python 3.8.13 ('main')",
   "language": "python",
   "name": "python3"
  },
  "language_info": {
   "codemirror_mode": {
    "name": "ipython",
    "version": 3
   },
   "file_extension": ".py",
   "mimetype": "text/x-python",
   "name": "python",
   "nbconvert_exporter": "python",
   "pygments_lexer": "ipython3",
   "version": "3.8.13"
  },
  "orig_nbformat": 4,
  "vscode": {
   "interpreter": {
    "hash": "3d91bbcd4f95c7d97193a2aece1bb930d54f2706bb0dcd2806281006b61a3a38"
   }
  }
 },
 "nbformat": 4,
 "nbformat_minor": 2
}
