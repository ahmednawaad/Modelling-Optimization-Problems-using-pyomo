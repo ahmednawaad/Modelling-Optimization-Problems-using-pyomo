{
 "cells": [
  {
   "cell_type": "markdown",
   "metadata": {},
   "source": [
    "![](Images\\2022-11-26-09-08-29.png)"
   ]
  },
  {
   "cell_type": "markdown",
   "metadata": {},
   "source": [
    "### Define using Abstract Model\n",
    "coef.dat\n",
    "![](Images\\2022-11-26-09-09-58.png)\n"
   ]
  },
  {
   "cell_type": "code",
   "execution_count": 3,
   "metadata": {},
   "outputs": [],
   "source": [
    "# create params.dat file    # we define the sets with capital letters\n",
    "params_file = \"\"\"\n",
    "\n",
    "param : I : c :=\n",
    "1 7\n",
    "2 12;\n",
    "\n",
    "param : M : b :=\n",
    "1 4\n",
    "2 2;\n",
    "\n",
    "param a :=\n",
    "1 1 3\n",
    "1 2 4\n",
    "2 1 2\n",
    "2 2 5;\n",
    "\n",
    "\"\"\"\n",
    "with open('07_params.dat', 'w') as file:\n",
    "    file.write(params_file)"
   ]
  },
  {
   "cell_type": "code",
   "execution_count": 27,
   "metadata": {},
   "outputs": [],
   "source": [
    "# Another way to define a_index\n",
    "\n",
    "# create params.dat file    # we define the sets with capital letters\n",
    "\n",
    "params_file = \"\"\"\n",
    "\n",
    "param : I : c :=\n",
    "        1   7\n",
    "        2   12;\n",
    "\n",
    "param : M : b :=\n",
    "        1   4\n",
    "        2   2;\n",
    "\n",
    "param a:  1 2 :=\n",
    "        1 3 4\n",
    "        2 2 5;\n",
    "\n",
    "\"\"\"\n",
    "with open('07_params.dat', 'w') as file:\n",
    "        file.write(params_file)"
   ]
  },
  {
   "cell_type": "code",
   "execution_count": 28,
   "metadata": {},
   "outputs": [],
   "source": [
    "import pyomo.environ as pyo\n",
    "import numpy as np"
   ]
  },
  {
   "cell_type": "code",
   "execution_count": 29,
   "metadata": {},
   "outputs": [
    {
     "name": "stdout",
     "output_type": "stream",
     "text": [
      "# ==========================================================\n",
      "# = Solver Results                                         =\n",
      "# ==========================================================\n",
      "# ----------------------------------------------------------\n",
      "#   Problem Information\n",
      "# ----------------------------------------------------------\n",
      "Problem: \n",
      "- Name: unknown\n",
      "  Lower bound: 9.33333333333333\n",
      "  Upper bound: 9.33333333333333\n",
      "  Number of objectives: 1\n",
      "  Number of constraints: 3\n",
      "  Number of variables: 3\n",
      "  Number of nonzeros: 5\n",
      "  Sense: minimize\n",
      "# ----------------------------------------------------------\n",
      "#   Solver Information\n",
      "# ----------------------------------------------------------\n",
      "Solver: \n",
      "- Status: ok\n",
      "  Termination condition: optimal\n",
      "  Statistics: \n",
      "    Branch and bound: \n",
      "      Number of bounded subproblems: 0\n",
      "      Number of created subproblems: 0\n",
      "  Error rc: 0\n",
      "  Time: 0.055290937423706055\n",
      "# ----------------------------------------------------------\n",
      "#   Solution Information\n",
      "# ----------------------------------------------------------\n",
      "Solution: \n",
      "- number of solutions: 0\n",
      "  number of solutions displayed: 0\n"
     ]
    },
    {
     "name": "stderr",
     "output_type": "stream",
     "text": [
      "C:\\Users\\20100\\AppData\\Local\\Temp\\ipykernel_11620\\3989363460.py:16: DeprecationWarning: Calling np.sum(generator) is deprecated, and in the future will give a different result. Use np.sum(np.fromiter(generator)) or the python sum builtin instead.\n",
      "  return np.sum(model.a[m, i] * model.x[i] for i in model.I) >= model.b[m]\n",
      "C:\\Users\\20100\\AppData\\Local\\Temp\\ipykernel_11620\\3989363460.py:21: DeprecationWarning: Calling np.sum(generator) is deprecated, and in the future will give a different result. Use np.sum(np.fromiter(generator)) or the python sum builtin instead.\n",
      "  return np.sum(model.c[i] * model.x[i] for i in model.I)\n"
     ]
    }
   ],
   "source": [
    "# Initiate the model (Abstract Model)\n",
    "model = pyo.AbstractModel()\n",
    "\n",
    "# Declare the parameters and variables\n",
    "model.I = pyo.Set()\n",
    "model.M = pyo.Set()\n",
    "\n",
    "model.c = pyo.Param(model.I)\n",
    "model.b = pyo.Param(model.M)\n",
    "model.a = pyo.Param(model.M, model.I)\n",
    "\n",
    "model.x = pyo.Var(model.I, within= pyo.NonNegativeReals )\n",
    "\n",
    "# Declare the constraints\n",
    "def constraint_1(model, m):\n",
    "    return np.sum(model.a[m, i] * model.x[i] for i in model.I) >= model.b[m]\n",
    "model.con1 = pyo.Constraint(model.M, rule=constraint_1)\n",
    "\n",
    "# Declare the objective function\n",
    "def objective_1(model):\n",
    "    return np.sum(model.c[i] * model.x[i] for i in model.I)\n",
    "model.OF = pyo.Objective(rule=objective_1, sense=pyo.minimize)\n",
    "\n",
    "# initiate the solver\n",
    "solver = pyo.SolverFactory('glpk')\n",
    "# create instance from abstract model\n",
    "instance = model.create_instance('07_params.dat')\n",
    "# solve the problem\n",
    "results = solver.solve(instance)\n",
    "results.write()"
   ]
  },
  {
   "cell_type": "code",
   "execution_count": 30,
   "metadata": {},
   "outputs": [
    {
     "name": "stdout",
     "output_type": "stream",
     "text": [
      "3 Set Declarations\n",
      "    I : Size=1, Index=None, Ordered=Insertion\n",
      "        Key  : Dimen : Domain : Size : Members\n",
      "        None :     1 :    Any :    2 : {1, 2}\n",
      "    M : Size=1, Index=None, Ordered=Insertion\n",
      "        Key  : Dimen : Domain : Size : Members\n",
      "        None :     1 :    Any :    2 : {1, 2}\n",
      "    a_index : Size=1, Index=None, Ordered=True\n",
      "        Key  : Dimen : Domain : Size : Members\n",
      "        None :     2 :    M*I :    4 : {(1, 1), (1, 2), (2, 1), (2, 2)}\n",
      "\n",
      "3 Param Declarations\n",
      "    a : Size=4, Index=a_index, Domain=Any, Default=None, Mutable=False\n",
      "        Key    : Value\n",
      "        (1, 1) :     3\n",
      "        (1, 2) :     4\n",
      "        (2, 1) :     2\n",
      "        (2, 2) :     5\n",
      "    b : Size=2, Index=M, Domain=Any, Default=None, Mutable=False\n",
      "        Key : Value\n",
      "          1 :     4\n",
      "          2 :     2\n",
      "    c : Size=2, Index=I, Domain=Any, Default=None, Mutable=False\n",
      "        Key : Value\n",
      "          1 :     7\n",
      "          2 :    12\n",
      "\n",
      "1 Var Declarations\n",
      "    x : Size=2, Index=I\n",
      "        Key : Lower : Value            : Upper : Fixed : Stale : Domain\n",
      "          1 :     0 : 1.33333333333333 :  None : False : False : NonNegativeReals\n",
      "          2 :     0 :              0.0 :  None : False : False : NonNegativeReals\n",
      "\n",
      "1 Objective Declarations\n",
      "    OF : Size=1, Index=None, Active=True\n",
      "        Key  : Active : Sense    : Expression\n",
      "        None :   True : minimize : 7*x[1] + 12*x[2]\n",
      "\n",
      "1 Constraint Declarations\n",
      "    con1 : Size=2, Index=M, Active=True\n",
      "        Key : Lower : Body            : Upper : Active\n",
      "          1 :   4.0 : 3*x[1] + 4*x[2] :  +Inf :   True\n",
      "          2 :   2.0 : 2*x[1] + 5*x[2] :  +Inf :   True\n",
      "\n",
      "9 Declarations: I M c b a_index a x con1 OF\n"
     ]
    }
   ],
   "source": [
    "instance.pprint()"
   ]
  },
  {
   "cell_type": "code",
   "execution_count": 31,
   "metadata": {},
   "outputs": [
    {
     "name": "stdout",
     "output_type": "stream",
     "text": [
      "X_1 :  1.33333333333333\n",
      "X_2 :  0.0\n",
      "OF:  9.333333333333309\n"
     ]
    }
   ],
   "source": [
    "# print the results\n",
    "for i in instance.I:\n",
    "    print(f\"X_{i} : \", pyo.value(instance.x[i]))\n",
    "\n",
    "print('OF: ', pyo.value(instance.OF))"
   ]
  },
  {
   "cell_type": "code",
   "execution_count": null,
   "metadata": {},
   "outputs": [],
   "source": []
  },
  {
   "cell_type": "code",
   "execution_count": null,
   "metadata": {},
   "outputs": [],
   "source": []
  }
 ],
 "metadata": {
  "kernelspec": {
   "display_name": "Python 3.8.13 ('main')",
   "language": "python",
   "name": "python3"
  },
  "language_info": {
   "codemirror_mode": {
    "name": "ipython",
    "version": 3
   },
   "file_extension": ".py",
   "mimetype": "text/x-python",
   "name": "python",
   "nbconvert_exporter": "python",
   "pygments_lexer": "ipython3",
   "version": "3.8.13"
  },
  "orig_nbformat": 4,
  "vscode": {
   "interpreter": {
    "hash": "3d91bbcd4f95c7d97193a2aece1bb930d54f2706bb0dcd2806281006b61a3a38"
   }
  }
 },
 "nbformat": 4,
 "nbformat_minor": 2
}
