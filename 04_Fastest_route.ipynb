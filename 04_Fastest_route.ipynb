{
 "cells": [
  {
   "cell_type": "markdown",
   "metadata": {},
   "source": [
    "![](2022-11-25-20-08-05.png)"
   ]
  },
  {
   "cell_type": "code",
   "execution_count": 2,
   "metadata": {},
   "outputs": [],
   "source": [
    "import pyomo.environ as pyo\n",
    "import numpy as np\n"
   ]
  },
  {
   "cell_type": "markdown",
   "metadata": {},
   "source": [
    "* boat speed v1 = 4\n",
    "* walk speed v2 =3\n",
    "* R = 10"
   ]
  },
  {
   "cell_type": "code",
   "execution_count": 8,
   "metadata": {},
   "outputs": [
    {
     "name": "stdout",
     "output_type": "stream",
     "text": [
      "# ==========================================================\n",
      "# = Solver Results                                         =\n",
      "# ==========================================================\n",
      "# ----------------------------------------------------------\n",
      "#   Problem Information\n",
      "# ----------------------------------------------------------\n",
      "Problem: \n",
      "- Lower bound: -inf\n",
      "  Upper bound: inf\n",
      "  Number of objectives: 1\n",
      "  Number of constraints: 0\n",
      "  Number of variables: 1\n",
      "  Sense: unknown\n",
      "# ----------------------------------------------------------\n",
      "#   Solver Information\n",
      "# ----------------------------------------------------------\n",
      "Solver: \n",
      "- Status: ok\n",
      "  Message: Ipopt 3.11.1\\x3a Optimal Solution Found\n",
      "  Termination condition: optimal\n",
      "  Id: 0\n",
      "  Error rc: 0\n",
      "  Time: 0.10311770439147949\n",
      "# ----------------------------------------------------------\n",
      "#   Solution Information\n",
      "# ----------------------------------------------------------\n",
      "Solution: \n",
      "- number of solutions: 0\n",
      "  number of solutions displayed: 0\n"
     ]
    }
   ],
   "source": [
    "# initialize the model\n",
    "model = pyo.ConcreteModel()\n",
    "\n",
    "# initialize the parameters and variables\n",
    "model.v1 = pyo.Param(initialize=4)\n",
    "model.v2 = pyo.Param(initialize=3)\n",
    "model.R = pyo.Param(initialize=10)\n",
    "model.theta = pyo.Var(bounds=(0, np.pi/2))\n",
    "\n",
    "# Define the constraints\n",
    "\n",
    "#Define the Objective Function\n",
    "model.OF = pyo.Objective(expr=2* model.R* pyo.cos(model.theta)/ model.v1+2* model.theta* model.R/ model.v2, sense=pyo.minimize)\n",
    "\n",
    "# Define the solver\n",
    "opt = pyo.SolverFactory('ipopt')\n",
    "results = opt.solve(model)\n",
    "\n",
    "results.write()"
   ]
  },
  {
   "cell_type": "code",
   "execution_count": 9,
   "metadata": {},
   "outputs": [
    {
     "name": "stdout",
     "output_type": "stream",
     "text": [
      "3 Param Declarations\n",
      "    R : Size=1, Index=None, Domain=Any, Default=None, Mutable=False\n",
      "        Key  : Value\n",
      "        None :    10\n",
      "    v1 : Size=1, Index=None, Domain=Any, Default=None, Mutable=False\n",
      "        Key  : Value\n",
      "        None :     4\n",
      "    v2 : Size=1, Index=None, Domain=Any, Default=None, Mutable=False\n",
      "        Key  : Value\n",
      "        None :     3\n",
      "\n",
      "1 Var Declarations\n",
      "    theta : Size=1, Index=None\n",
      "        Key  : Lower : Value : Upper              : Fixed : Stale : Domain\n",
      "        None :     0 :   0.0 : 1.5707963267948966 : False : False :  Reals\n",
      "\n",
      "1 Objective Declarations\n",
      "    OF : Size=1, Index=None, Active=True\n",
      "        Key  : Active : Sense    : Expression\n",
      "        None :   True : minimize : 20*cos(theta)/4 + 6.666666666666667*theta\n",
      "\n",
      "5 Declarations: v1 v2 R theta OF\n"
     ]
    }
   ],
   "source": [
    "model.pprint()"
   ]
  },
  {
   "cell_type": "code",
   "execution_count": 11,
   "metadata": {},
   "outputs": [
    {
     "name": "stdout",
     "output_type": "stream",
     "text": [
      "theta:  0.0\n",
      "OF:  5.0\n"
     ]
    }
   ],
   "source": [
    "\n",
    "# print the results\n",
    "print('theta: ', pyo.value(model.theta) )\n",
    "print('OF: ', pyo.value(model.OF) )"
   ]
  },
  {
   "cell_type": "code",
   "execution_count": null,
   "metadata": {},
   "outputs": [],
   "source": []
  }
 ],
 "metadata": {
  "kernelspec": {
   "display_name": "Python 3.8.13 ('main')",
   "language": "python",
   "name": "python3"
  },
  "language_info": {
   "codemirror_mode": {
    "name": "ipython",
    "version": 3
   },
   "file_extension": ".py",
   "mimetype": "text/x-python",
   "name": "python",
   "nbconvert_exporter": "python",
   "pygments_lexer": "ipython3",
   "version": "3.8.13"
  },
  "orig_nbformat": 4,
  "vscode": {
   "interpreter": {
    "hash": "3d91bbcd4f95c7d97193a2aece1bb930d54f2706bb0dcd2806281006b61a3a38"
   }
  }
 },
 "nbformat": 4,
 "nbformat_minor": 2
}
