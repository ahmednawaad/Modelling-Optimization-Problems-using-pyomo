{
 "cells": [
  {
   "cell_type": "markdown",
   "metadata": {},
   "source": [
    "![](2022-11-25-20-28-41.png)"
   ]
  },
  {
   "cell_type": "markdown",
   "metadata": {},
   "source": [
    "* L = 10\n",
    "* h1 = 2\n",
    "* h2 = 4"
   ]
  },
  {
   "cell_type": "code",
   "execution_count": 1,
   "metadata": {},
   "outputs": [],
   "source": [
    "import pyomo.environ as pyo"
   ]
  },
  {
   "cell_type": "code",
   "execution_count": 2,
   "metadata": {},
   "outputs": [
    {
     "name": "stdout",
     "output_type": "stream",
     "text": [
      "# ==========================================================\n",
      "# = Solver Results                                         =\n",
      "# ==========================================================\n",
      "# ----------------------------------------------------------\n",
      "#   Problem Information\n",
      "# ----------------------------------------------------------\n",
      "Problem: \n",
      "- Lower bound: -inf\n",
      "  Upper bound: inf\n",
      "  Number of objectives: 1\n",
      "  Number of constraints: 2\n",
      "  Number of variables: 3\n",
      "  Sense: unknown\n",
      "# ----------------------------------------------------------\n",
      "#   Solver Information\n",
      "# ----------------------------------------------------------\n",
      "Solver: \n",
      "- Status: ok\n",
      "  Message: Ipopt 3.11.1\\x3a Optimal Solution Found\n",
      "  Termination condition: optimal\n",
      "  Id: 0\n",
      "  Error rc: 0\n",
      "  Time: 0.10269021987915039\n",
      "# ----------------------------------------------------------\n",
      "#   Solution Information\n",
      "# ----------------------------------------------------------\n",
      "Solution: \n",
      "- number of solutions: 0\n",
      "  number of solutions displayed: 0\n"
     ]
    }
   ],
   "source": [
    "# initialize the model\n",
    "model = pyo.ConcreteModel()\n",
    "\n",
    "# Define the parameters and the variables\n",
    "model.L = pyo.Param(initialize =10)\n",
    "model.h1 = pyo.Param(initialize =2)\n",
    "model.h2 = pyo.Param(initialize =4)\n",
    "\n",
    "model.x = pyo.Var(bounds=(0, model.L))\n",
    "model.d1 = pyo.Var(bounds=(0, 2*model.L))\n",
    "model.d2 = pyo.Var(bounds=(0, 2*model.L))\n",
    "\n",
    "# Define the constraints\n",
    "model.cons1 = pyo.Constraint(expr= model.d1**2 == model.x**2 + model.h1**2)\n",
    "model.cons2 = pyo.Constraint(expr= model.d2**2 == (model.L-model.x)**2 + model.h2**2)\n",
    "\n",
    "# Define the objective Function\n",
    "model.OF = pyo.Objective(expr= model.d1 + model.d2 , sense=pyo.minimize)\n",
    "\n",
    "# Define the solver\n",
    "solver = pyo.SolverFactory('ipopt')\n",
    "\n",
    "#Solve the problem\n",
    "results = solver.solve(model)\n",
    "\n",
    "# write the results\n",
    "results.write()"
   ]
  },
  {
   "cell_type": "code",
   "execution_count": 3,
   "metadata": {},
   "outputs": [
    {
     "name": "stdout",
     "output_type": "stream",
     "text": [
      "3 Param Declarations\n",
      "    L : Size=1, Index=None, Domain=Any, Default=None, Mutable=False\n",
      "        Key  : Value\n",
      "        None :    10\n",
      "    h1 : Size=1, Index=None, Domain=Any, Default=None, Mutable=False\n",
      "        Key  : Value\n",
      "        None :     2\n",
      "    h2 : Size=1, Index=None, Domain=Any, Default=None, Mutable=False\n",
      "        Key  : Value\n",
      "        None :     4\n",
      "\n",
      "3 Var Declarations\n",
      "    d1 : Size=1, Index=None\n",
      "        Key  : Lower : Value             : Upper : Fixed : Stale : Domain\n",
      "        None :     0 : 3.887301269070573 :    20 : False : False :  Reals\n",
      "    d2 : Size=1, Index=None\n",
      "        Key  : Lower : Value            : Upper : Fixed : Stale : Domain\n",
      "        None :     0 : 7.77460252061871 :    20 : False : False :  Reals\n",
      "    x : Size=1, Index=None\n",
      "        Key  : Lower : Value             : Upper : Fixed : Stale : Domain\n",
      "        None :     0 : 3.333333340145348 :    10 : False : False :  Reals\n",
      "\n",
      "1 Objective Declarations\n",
      "    OF : Size=1, Index=None, Active=True\n",
      "        Key  : Active : Sense    : Expression\n",
      "        None :   True : minimize : d1 + d2\n",
      "\n",
      "2 Constraint Declarations\n",
      "    cons1 : Size=1, Index=None, Active=True\n",
      "        Key  : Lower : Body               : Upper : Active\n",
      "        None :   0.0 : d1**2 - (x**2 + 4) :   0.0 :   True\n",
      "    cons2 : Size=1, Index=None, Active=True\n",
      "        Key  : Lower : Body                       : Upper : Active\n",
      "        None :   0.0 : d2**2 - ((10 - x)**2 + 16) :   0.0 :   True\n",
      "\n",
      "9 Declarations: L h1 h2 x d1 d2 cons1 cons2 OF\n"
     ]
    }
   ],
   "source": [
    "# check the model\n",
    "model.pprint()"
   ]
  },
  {
   "cell_type": "code",
   "execution_count": 6,
   "metadata": {},
   "outputs": [
    {
     "name": "stdout",
     "output_type": "stream",
     "text": [
      "X:  3.333333340145348\n",
      "OF:  11.661903789689283\n",
      "d1:  3.887301269070573\n",
      "d2:  7.77460252061871\n"
     ]
    }
   ],
   "source": [
    "print('X: ' , pyo.value(model.x))\n",
    "print('OF: ' , pyo.value(model.OF))\n",
    "print('d1: ' , pyo.value(model.d1))\n",
    "print('d2: ' , pyo.value(model.d2))"
   ]
  },
  {
   "cell_type": "code",
   "execution_count": null,
   "metadata": {},
   "outputs": [],
   "source": []
  }
 ],
 "metadata": {
  "kernelspec": {
   "display_name": "Python 3.8.13 ('main')",
   "language": "python",
   "name": "python3"
  },
  "language_info": {
   "codemirror_mode": {
    "name": "ipython",
    "version": 3
   },
   "file_extension": ".py",
   "mimetype": "text/x-python",
   "name": "python",
   "nbconvert_exporter": "python",
   "pygments_lexer": "ipython3",
   "version": "3.8.13"
  },
  "orig_nbformat": 4,
  "vscode": {
   "interpreter": {
    "hash": "3d91bbcd4f95c7d97193a2aece1bb930d54f2706bb0dcd2806281006b61a3a38"
   }
  }
 },
 "nbformat": 4,
 "nbformat_minor": 2
}
