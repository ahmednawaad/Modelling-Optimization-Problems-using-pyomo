{
 "cells": [
  {
   "cell_type": "markdown",
   "metadata": {},
   "source": [
    "![](Images/2022-11-25-19-05-06.png)"
   ]
  },
  {
   "cell_type": "code",
   "execution_count": 4,
   "metadata": {},
   "outputs": [],
   "source": [
    "import pyomo.environ as pyo\n",
    "import numpy as np"
   ]
  },
  {
   "cell_type": "code",
   "execution_count": 8,
   "metadata": {},
   "outputs": [
    {
     "name": "stdout",
     "output_type": "stream",
     "text": [
      "ok\n",
      "optimal\n"
     ]
    }
   ],
   "source": [
    "# initialize the model\n",
    "model = pyo.ConcreteModel()\n",
    "\n",
    "# Define the parameters and variables\n",
    "model.R = pyo.Param(initialize=1)\n",
    "model.r = pyo.Var(bounds=(0,model.R))\n",
    "model.h = pyo.Var(bounds=(0,model.R))\n",
    "\n",
    "# Define the constraints\n",
    "model.con1 = pyo.Constraint(expr=model.r**2 + model.h**2 == model.R**2)\n",
    "\n",
    "# Define the objective function\n",
    "model.OF = pyo.Objective(expr= 2* np.pi * model.r**2 * model.h, sense=pyo.maximize)\n",
    "\n",
    "# Define the solver\n",
    "opt = pyo.SolverFactory('ipopt')\n",
    "\n",
    "# solve the problem\n",
    "results = opt.solve(model)\n",
    "\n",
    "print(results.solver.status)\n",
    "print(results.solver.termination_condition)"
   ]
  },
  {
   "cell_type": "code",
   "execution_count": 10,
   "metadata": {},
   "outputs": [
    {
     "name": "stdout",
     "output_type": "stream",
     "text": [
      "r:  0.8164965807359519\n",
      "h:  0.5773502694608879\n",
      "OF:  2.4183991523125106\n"
     ]
    }
   ],
   "source": [
    "print('r: ', pyo.value(model.r))\n",
    "print('h: ', pyo.value(model.h))\n",
    "print('OF: ', pyo.value(model.OF))"
   ]
  },
  {
   "cell_type": "code",
   "execution_count": null,
   "metadata": {},
   "outputs": [],
   "source": []
  }
 ],
 "metadata": {
  "kernelspec": {
   "display_name": "Python 3.8.13 ('main')",
   "language": "python",
   "name": "python3"
  },
  "language_info": {
   "codemirror_mode": {
    "name": "ipython",
    "version": 3
   },
   "file_extension": ".py",
   "mimetype": "text/x-python",
   "name": "python",
   "nbconvert_exporter": "python",
   "pygments_lexer": "ipython3",
   "version": "3.8.13"
  },
  "orig_nbformat": 4,
  "vscode": {
   "interpreter": {
    "hash": "3d91bbcd4f95c7d97193a2aece1bb930d54f2706bb0dcd2806281006b61a3a38"
   }
  }
 },
 "nbformat": 4,
 "nbformat_minor": 2
}
