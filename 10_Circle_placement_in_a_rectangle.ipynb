{
 "cells": [
  {
   "cell_type": "markdown",
   "metadata": {},
   "source": [
    "![](Images/2022-11-27-16-53-57.png)"
   ]
  },
  {
   "cell_type": "markdown",
   "metadata": {},
   "source": [
    "# this is the circles' radiuses\n",
    "![](Images/2022-11-27-16-56-32.png)\n",
    "\n",
    "# we also need the width and length of the rectangle to less than 100"
   ]
  },
  {
   "cell_type": "code",
   "execution_count": 113,
   "metadata": {},
   "outputs": [],
   "source": [
    "# Create the dat file\n",
    "param_file =\"\"\"\n",
    "param:  I : R:=\n",
    "        1   2\n",
    "        2   1.2\n",
    "        3   1.8\n",
    "        4   0.9\n",
    "        5   3.2\n",
    "        6   0.7;\n",
    "\"\"\"\n",
    "\n",
    "with open(\"10_params.dat\", 'w') as file:\n",
    "        file.write(param_file)"
   ]
  },
  {
   "cell_type": "markdown",
   "metadata": {},
   "source": [
    "### when I have a series of indexed variables\n",
    "Just Define the variable and pass the series of indices as a first parameter\n",
    "![](Images/2022-11-27-17-16-05.png)\n",
    "![](Images/2022-11-27-17-15-48.png)"
   ]
  },
  {
   "cell_type": "code",
   "execution_count": 114,
   "metadata": {},
   "outputs": [],
   "source": [
    "# import Libraries\n",
    "import pyomo.environ as pyo\n",
    "import numpy as np\n",
    "import matplotlib.pyplot as plt"
   ]
  },
  {
   "cell_type": "code",
   "execution_count": 115,
   "metadata": {},
   "outputs": [
    {
     "name": "stdout",
     "output_type": "stream",
     "text": [
      "WARNING (W1002): Setting Var 'y[1]' to a numeric value `0` outside the bounds\n",
      "    (2, 100).\n",
      "    See also https://pyomo.readthedocs.io/en/stable/errors.html#w1002\n",
      "WARNING (W1002): Setting Var 'y[1]' to a numeric value `0` outside the bounds\n",
      "    (2, 100).\n",
      "    See also https://pyomo.readthedocs.io/en/stable/errors.html#w1002\n",
      "WARNING (W1002): Setting Var 'y[2]' to a numeric value `0` outside the bounds\n",
      "    (1.2, 100).\n",
      "    See also https://pyomo.readthedocs.io/en/stable/errors.html#w1002\n",
      "WARNING (W1002): Setting Var 'y[3]' to a numeric value `0` outside the bounds\n",
      "    (1.8, 100).\n",
      "    See also https://pyomo.readthedocs.io/en/stable/errors.html#w1002\n",
      "WARNING (W1002): Setting Var 'y[4]' to a numeric value `0` outside the bounds\n",
      "    (0.9, 100).\n",
      "    See also https://pyomo.readthedocs.io/en/stable/errors.html#w1002\n",
      "WARNING (W1002): Setting Var 'y[5]' to a numeric value `0` outside the bounds\n",
      "    (3.2, 100).\n",
      "    See also https://pyomo.readthedocs.io/en/stable/errors.html#w1002\n",
      "WARNING (W1002): Setting Var 'y[6]' to a numeric value `0` outside the bounds\n",
      "    (0.7, 100).\n",
      "    See also https://pyomo.readthedocs.io/en/stable/errors.html#w1002\n",
      "# ==========================================================\n",
      "# = Solver Results                                         =\n",
      "# ==========================================================\n",
      "# ----------------------------------------------------------\n",
      "#   Problem Information\n",
      "# ----------------------------------------------------------\n",
      "Problem: \n",
      "- Lower bound: -inf\n",
      "  Upper bound: inf\n",
      "  Number of objectives: 1\n",
      "  Number of constraints: 33\n",
      "  Number of variables: 14\n",
      "  Sense: unknown\n",
      "# ----------------------------------------------------------\n",
      "#   Solver Information\n",
      "# ----------------------------------------------------------\n",
      "Solver: \n",
      "- Status: ok\n",
      "  Message: Ipopt 3.11.1\\x3a Optimal Solution Found\n",
      "  Termination condition: optimal\n",
      "  Id: 0\n",
      "  Error rc: 0\n",
      "  Time: 0.16579580307006836\n",
      "# ----------------------------------------------------------\n",
      "#   Solution Information\n",
      "# ----------------------------------------------------------\n",
      "Solution: \n",
      "- number of solutions: 0\n",
      "  number of solutions displayed: 0\n"
     ]
    }
   ],
   "source": [
    "# initialize the abstract model\n",
    "model = pyo.AbstractModel()\n",
    "\n",
    "# Declare the parameters and the variables\n",
    "model.I = pyo.Set()\n",
    "model.J = pyo.Set(initialize=model.I)\n",
    "model.R = pyo.Param(model.I)\n",
    "\n",
    "model.W = pyo.Var(bounds=(0,100), within=pyo.NonNegativeReals, initialize=0)\n",
    "model.L = pyo.Var(bounds=(0,100), within=pyo.NonNegativeReals, initialize=0)\n",
    "##\n",
    "def lower_bound(model, i):\n",
    "    return (model.R[i], 100)\n",
    "model.x = pyo.Var(model.I,  within=pyo.NonNegativeReals, initialize=0)\n",
    "model.y = pyo.Var(model.I, bounds=lower_bound, within=pyo.NonNegativeReals, initialize=0)\n",
    "\n",
    "# Declare the constraints\n",
    "def con_01_fun(model,i,j):\n",
    "    if i > j:\n",
    "        return (model.x[i] - model.x[j])**2 + (model.y[i] - model.y[j])**2 >= (model.R[i] + model.R[j])**2\n",
    "    else:\n",
    "        return pyo.Constraint.Skip\n",
    "model.c1 = pyo.Constraint(model.I, model.J, rule=con_01_fun)\n",
    "\n",
    "def con_02_fun(model,i):\n",
    "    return  model.R[i] <= model.x[i]\n",
    "model.c2 = pyo.Constraint(model.I, rule=con_02_fun)\n",
    "\n",
    "def con_02_1_fun(model,i):\n",
    "    return  model.x[i] <= model.W - model.R[i]\n",
    "model.c2_1 = pyo.Constraint(model.I, rule=con_02_1_fun)\n",
    "\n",
    "def con_03_fun(model,j):\n",
    "    return  model.y[j] <= model.L - model.R[j]\n",
    "model.c3 = pyo.Constraint(model.J, rule=con_03_fun)\n",
    "\n",
    "# Declare the objective function\n",
    "model.OF = pyo.Objective(expr=model.L * model.W , sense=pyo.minimize)\n",
    "\n",
    "# Define the solver\n",
    "solver = pyo.SolverFactory('ipopt')\n",
    "instance = model.create_instance(\"10_params.dat\")\n",
    "results = solver.solve(instance)\n",
    "\n",
    "results.write()"
   ]
  },
  {
   "cell_type": "code",
   "execution_count": 116,
   "metadata": {},
   "outputs": [
    {
     "name": "stdout",
     "output_type": "stream",
     "text": [
      "3 Set Declarations\n",
      "    I : Size=1, Index=None, Ordered=Insertion\n",
      "        Key  : Dimen : Domain : Size : Members\n",
      "        None :     1 :    Any :    6 : {1, 2, 3, 4, 5, 6}\n",
      "    J : Size=1, Index=None, Ordered=Insertion\n",
      "        Key  : Dimen : Domain : Size : Members\n",
      "        None :     1 :    Any :    6 : {1, 2, 3, 4, 5, 6}\n",
      "    c1_index : Size=1, Index=None, Ordered=True\n",
      "        Key  : Dimen : Domain : Size : Members\n",
      "        None :     2 :    I*J :   36 : {(1, 1), (1, 2), (1, 3), (1, 4), (1, 5), (1, 6), (2, 1), (2, 2), (2, 3), (2, 4), (2, 5), (2, 6), (3, 1), (3, 2), (3, 3), (3, 4), (3, 5), (3, 6), (4, 1), (4, 2), (4, 3), (4, 4), (4, 5), (4, 6), (5, 1), (5, 2), (5, 3), (5, 4), (5, 5), (5, 6), (6, 1), (6, 2), (6, 3), (6, 4), (6, 5), (6, 6)}\n",
      "\n",
      "1 Param Declarations\n",
      "    R : Size=6, Index=I, Domain=Any, Default=None, Mutable=False\n",
      "        Key : Value\n",
      "          1 :     2\n",
      "          2 :   1.2\n",
      "          3 :   1.8\n",
      "          4 :   0.9\n",
      "          5 :   3.2\n",
      "          6 :   0.7\n",
      "\n",
      "4 Var Declarations\n",
      "    L : Size=1, Index=None\n",
      "        Key  : Lower : Value            : Upper : Fixed : Stale : Domain\n",
      "        None :     0 : 13.8780337252341 :   100 : False : False : NonNegativeReals\n",
      "    W : Size=1, Index=None\n",
      "        Key  : Lower : Value             : Upper : Fixed : Stale : Domain\n",
      "        None :     0 : 6.399999936425104 :   100 : False : False : NonNegativeReals\n",
      "    x : Size=6, Index=I\n",
      "        Key : Lower : Value              : Upper : Fixed : Stale : Domain\n",
      "          1 :     0 : 1.9999999825800574 :  None : False : False : NonNegativeReals\n",
      "          2 :     0 : 1.3516298425873596 :  None : False : False : NonNegativeReals\n",
      "          3 :     0 :  4.599999952461207 :  None : False : False : NonNegativeReals\n",
      "          4 :     0 :  2.729500161541941 :  None : False : False : NonNegativeReals\n",
      "          5 :     0 : 3.1999999682261895 :  None : False : False : NonNegativeReals\n",
      "          6 :     0 : 0.6999999913709277 :  None : False : False : NonNegativeReals\n",
      "    y : Size=6, Index=I\n",
      "        Key : Lower : Value              : Upper : Fixed : Stale : Domain\n",
      "          1 :     2 :  5.618389523498601 :   100 : False : False : NonNegativeReals\n",
      "          2 :   1.2 : 2.4847628606763283 :   100 : False : False : NonNegativeReals\n",
      "          3 :   1.8 :  2.847108225468066 :   100 : False : False : NonNegativeReals\n",
      "          4 :   0.9 :                0.9 :   100 : False : False : NonNegativeReals\n",
      "          5 :   3.2 : 10.678033756842588 :   100 : False : False : NonNegativeReals\n",
      "          6 :   0.7 :                0.7 :   100 : False : False : NonNegativeReals\n",
      "\n",
      "1 Objective Declarations\n",
      "    OF : Size=1, Index=None, Active=True\n",
      "        Key  : Active : Sense    : Expression\n",
      "        None :   True : minimize :        L*W\n",
      "\n",
      "4 Constraint Declarations\n",
      "    c1 : Size=15, Index=c1_index, Active=True\n",
      "        Key    : Lower              : Body                                : Upper : Active\n",
      "        (2, 1) : 10.240000000000002 : (x[2] - x[1])**2 + (y[2] - y[1])**2 :  +Inf :   True\n",
      "        (3, 1) :              14.44 : (x[3] - x[1])**2 + (y[3] - y[1])**2 :  +Inf :   True\n",
      "        (3, 2) :                9.0 : (x[3] - x[2])**2 + (y[3] - y[2])**2 :  +Inf :   True\n",
      "        (4, 1) :               8.41 : (x[4] - x[1])**2 + (y[4] - y[1])**2 :  +Inf :   True\n",
      "        (4, 2) :               4.41 : (x[4] - x[2])**2 + (y[4] - y[2])**2 :  +Inf :   True\n",
      "        (4, 3) :  7.290000000000001 : (x[4] - x[3])**2 + (y[4] - y[3])**2 :  +Inf :   True\n",
      "        (5, 1) : 27.040000000000003 : (x[5] - x[1])**2 + (y[5] - y[1])**2 :  +Inf :   True\n",
      "        (5, 2) : 19.360000000000003 : (x[5] - x[2])**2 + (y[5] - y[2])**2 :  +Inf :   True\n",
      "        (5, 3) :               25.0 : (x[5] - x[3])**2 + (y[5] - y[3])**2 :  +Inf :   True\n",
      "        (5, 4) : 16.810000000000006 : (x[5] - x[4])**2 + (y[5] - y[4])**2 :  +Inf :   True\n",
      "        (6, 1) :  7.290000000000001 : (x[6] - x[1])**2 + (y[6] - y[1])**2 :  +Inf :   True\n",
      "        (6, 2) :               3.61 : (x[6] - x[2])**2 + (y[6] - y[2])**2 :  +Inf :   True\n",
      "        (6, 3) :               6.25 : (x[6] - x[3])**2 + (y[6] - y[3])**2 :  +Inf :   True\n",
      "        (6, 4) : 2.5600000000000005 : (x[6] - x[4])**2 + (y[6] - y[4])**2 :  +Inf :   True\n",
      "        (6, 5) : 15.210000000000003 : (x[6] - x[5])**2 + (y[6] - y[5])**2 :  +Inf :   True\n",
      "    c2 : Size=6, Index=I, Active=True\n",
      "        Key : Lower : Body : Upper : Active\n",
      "          1 :   2.0 : x[1] :  +Inf :   True\n",
      "          2 :   1.2 : x[2] :  +Inf :   True\n",
      "          3 :   1.8 : x[3] :  +Inf :   True\n",
      "          4 :   0.9 : x[4] :  +Inf :   True\n",
      "          5 :   3.2 : x[5] :  +Inf :   True\n",
      "          6 :   0.7 : x[6] :  +Inf :   True\n",
      "    c2_1 : Size=6, Index=I, Active=True\n",
      "        Key : Lower : Body             : Upper : Active\n",
      "          1 :  -Inf :   x[1] - (W - 2) :   0.0 :   True\n",
      "          2 :  -Inf : x[2] - (W - 1.2) :   0.0 :   True\n",
      "          3 :  -Inf : x[3] - (W - 1.8) :   0.0 :   True\n",
      "          4 :  -Inf : x[4] - (W - 0.9) :   0.0 :   True\n",
      "          5 :  -Inf : x[5] - (W - 3.2) :   0.0 :   True\n",
      "          6 :  -Inf : x[6] - (W - 0.7) :   0.0 :   True\n",
      "    c3 : Size=6, Index=J, Active=True\n",
      "        Key : Lower : Body             : Upper : Active\n",
      "          1 :  -Inf :   y[1] - (L - 2) :   0.0 :   True\n",
      "          2 :  -Inf : y[2] - (L - 1.2) :   0.0 :   True\n",
      "          3 :  -Inf : y[3] - (L - 1.8) :   0.0 :   True\n",
      "          4 :  -Inf : y[4] - (L - 0.9) :   0.0 :   True\n",
      "          5 :  -Inf : y[5] - (L - 3.2) :   0.0 :   True\n",
      "          6 :  -Inf : y[6] - (L - 0.7) :   0.0 :   True\n",
      "\n",
      "13 Declarations: I J R W L x y c1_index c1 c2 c2_1 c3 OF\n"
     ]
    }
   ],
   "source": [
    "instance.pprint()"
   ]
  },
  {
   "cell_type": "code",
   "execution_count": 117,
   "metadata": {},
   "outputs": [
    {
     "data": {
      "image/png": "[encoded data removed]",
      "text/plain": [
       "<Figure size 720x720 with 1 Axes>"
      ]
     },
     "metadata": {
      "needs_background": "light"
     },
     "output_type": "display_data"
    }
   ],
   "source": [
    "L = pyo.value(instance.L)\n",
    "W = pyo.value(instance.W)\n",
    "x = [pyo.value(instance.x[i]) for i in instance.I]\n",
    "y = [pyo.value(instance.y[i]) for i in instance.I]\n",
    "R = [pyo.value(instance.R[i]) for i in instance.I]\n",
    "\n",
    "plt.figure(figsize=(10,10))\n",
    "ax = plt.subplot()\n",
    "\n",
    "# plt.scatter(x,y)\n",
    "plt.plot([0,0,W,W,0],[0,L,L,0,0])\n",
    "plt.ylabel('L')\n",
    "plt.xlabel('W')\n",
    "for i in range(len(x)):\n",
    "    c = plt.Circle((x[i],y[i]), R[i], )\n",
    "    ax.add_patch(c)"
   ]
  },
  {
   "cell_type": "code",
   "execution_count": 118,
   "metadata": {},
   "outputs": [
    {
     "data": {
      "text/plain": [
       "(13.8780337252341, 6.399999936425104)"
      ]
     },
     "execution_count": 118,
     "metadata": {},
     "output_type": "execute_result"
    }
   ],
   "source": [
    "L,W"
   ]
  },
  {
   "cell_type": "code",
   "execution_count": null,
   "metadata": {},
   "outputs": [],
   "source": []
  }
 ],
 "metadata": {
  "kernelspec": {
   "display_name": "Python 3.8.13 ('main')",
   "language": "python",
   "name": "python3"
  },
  "language_info": {
   "codemirror_mode": {
    "name": "ipython",
    "version": 3
   },
   "file_extension": ".py",
   "mimetype": "text/x-python",
   "name": "python",
   "nbconvert_exporter": "python",
   "pygments_lexer": "ipython3",
   "version": "3.8.13"
  },
  "orig_nbformat": 4,
  "vscode": {
   "interpreter": {
    "hash": "3d91bbcd4f95c7d97193a2aece1bb930d54f2706bb0dcd2806281006b61a3a38"
   }
  }
 },
 "nbformat": 4,
 "nbformat_minor": 2
}
