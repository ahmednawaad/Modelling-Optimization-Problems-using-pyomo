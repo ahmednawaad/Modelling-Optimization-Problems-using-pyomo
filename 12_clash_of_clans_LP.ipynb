{
 "cells": [
  {
   "cell_type": "markdown",
   "metadata": {},
   "source": [
    "![](Images/2022-11-29-16-30-31.png)"
   ]
  },
  {
   "cell_type": "markdown",
   "metadata": {},
   "source": [
    "![](Images/2022-11-29-16-31-30.png)\n",
    "# there are multiple types of troops\n",
    "![](Images/2022-11-29-16-32-05.png)"
   ]
  },
  {
   "cell_type": "markdown",
   "metadata": {},
   "source": [
    "![](Images/2022-11-29-16-32-49.png)\n",
    "![](Images/2022-11-29-16-33-41.png)"
   ]
  },
  {
   "cell_type": "code",
   "execution_count": 68,
   "metadata": {},
   "outputs": [],
   "source": [
    "# create the parameters file\n",
    "# spaces and tabs don't affect the file\n",
    "# to define a set or parameter start with \"param\" and define the set or a parameter variable \"par:= .......''parameter value''......\" last thing put \";\" at the end\n",
    "# note: if you want to define the index(set) for first time use 'param:' instead of 'param'\n",
    "parameters_file = \"\"\"\n",
    "\n",
    "param:      I :       housingspace damage Trainingcostred TrainingcostDark Hitpoint Trainingtime:=\n",
    "        barbarian          1         34         300              0           205         5\n",
    "        Archer             1         28         600              0           52          6\n",
    "        Giant              5         130        4200             0           1850        60\n",
    "        Goblin             1         52         200              0           101         7\n",
    "        Drag               20        310        22000            0           2900        180\n",
    "        Edrag              30        300        36000            0           4200        360\n",
    "        Baloon             5         236        550              0           840         30\n",
    "        Pekka              25        310        18000            0           3500        180\n",
    "        Wizard             4         230        4200             0           230         30\n",
    "        Bowler             6         90         0                140         390         60\n",
    "        Lava               30        16         0                570         7200        300\n",
    "        Valkyrie           8         178        0                190         1450        90\n",
    "        Hog                5         148        0                100         810         45\n",
    "        Golem              30        40         0                350         5400        300\n",
    "        Witch              12        180        0                275         480         180\n",
    "        Minion             2         46         0                7           72          18;\n",
    "\n",
    "param camp:= 286;\n",
    "\n",
    "param RedElexir:= 2000000;\n",
    "\n",
    "param DarkElexir:=200000;\n",
    "\n",
    "\"\"\"\n",
    "\n",
    "with open('12_params.dat', 'w') as file:\n",
    "        file.write(parameters_file)"
   ]
  },
  {
   "cell_type": "code",
   "execution_count": 69,
   "metadata": {},
   "outputs": [],
   "source": [
    "# import libraries\n",
    "import pyomo.environ as pyo\n",
    "import numpy as np\n",
    "import matplotlib.pyplot as plt\n"
   ]
  },
  {
   "cell_type": "code",
   "execution_count": 70,
   "metadata": {},
   "outputs": [],
   "source": [
    "# Initialize the model\n",
    "model = pyo.AbstractModel()\n",
    "\n",
    "# Declare the parameters and variables\n",
    "# 1- sets\n",
    "model.I = pyo.Set()\n",
    "\n",
    "# 2- params\n",
    "model.housingspace       = pyo.Param(model.I)\n",
    "model.damage             = pyo.Param(model.I)\n",
    "model.Trainingcostred    = pyo.Param(model.I)\n",
    "model.TrainingcostDark   = pyo.Param(model.I)\n",
    "model.Hitpoint           = pyo.Param(model.I)\n",
    "model.Trainingtime       = pyo.Param(model.I)\n",
    "model.camp               = pyo.Param()\n",
    "model.RedElexir          = pyo.Param()\n",
    "model.DarkElexir         = pyo.Param()\n",
    "\n",
    "# 3- variables\n",
    "model.x                 = pyo.Var(model.I, bounds=(0,300), within=pyo.NonNegativeIntegers, initialize=0)\n",
    "\n",
    "# Declare the constraints\n",
    "# If there is a summation or iteration inside the constraint put it in a function\n",
    "\n",
    "def rule_1(model):\n",
    "    return sum(model.x[i]*model.housingspace[i] for i in model.I) <= model.camp\n",
    "model.c1 = pyo.Constraint(rule=rule_1)\n",
    "\n",
    "def rule_2(model):\n",
    "    return np.sum(model.x[i]*model.Trainingcostred[i] for i in model.I) <= model.RedElexir\n",
    "model.c2 = pyo.Constraint(rule=rule_2)\n",
    "\n",
    "def rule_3(model):\n",
    "    return np.sum(model.x[i]*model.TrainingcostDark[i] for i in model.I) <= model.DarkElexir\n",
    "model.c3 = pyo.Constraint(rule=rule_3)\n",
    "\n",
    "# Declare the objective function\n",
    "def obj_1(model):\n",
    "    return np.sum(model.damage[i]* model.x[i] for i in model.I)\n",
    "\n",
    "def obj_2(model):\n",
    "    return np.sum(model.x[i]*model.Hitpoint[i] for i in model.I)\n",
    "\n",
    "def obj_3(model):\n",
    "    return np.sum(model.x[i]*model.Trainingtime[i] for i in model.I)\n",
    "\n",
    "model.OF_1 = pyo.Objective(rule=obj_1, sense=pyo.maximize)\n",
    "model.OF_2 = pyo.Objective(rule=obj_2, sense=pyo.maximize)\n",
    "model.OF_3 = pyo.Objective(rule=obj_3, sense=pyo.minimize)\n",
    "\n",
    "# Define the solver\n",
    "solver = pyo.SolverFactory('glpk')"
   ]
  },
  {
   "cell_type": "code",
   "execution_count": 71,
   "metadata": {},
   "outputs": [
    {
     "name": "stdout",
     "output_type": "stream",
     "text": [
      "# ==========================================================\n",
      "# = Solver Results                                         =\n",
      "# ==========================================================\n",
      "# ----------------------------------------------------------\n",
      "#   Problem Information\n",
      "# ----------------------------------------------------------\n",
      "Problem: \n",
      "- Name: unknown\n",
      "  Lower bound: 16434.0\n",
      "  Upper bound: 16434.0\n",
      "  Number of objectives: 1\n",
      "  Number of constraints: 4\n",
      "  Number of variables: 17\n",
      "  Number of nonzeros: 33\n",
      "  Sense: maximize\n",
      "# ----------------------------------------------------------\n",
      "#   Solver Information\n",
      "# ----------------------------------------------------------\n",
      "Solver: \n",
      "- Status: ok\n",
      "  Termination condition: optimal\n",
      "  Statistics: \n",
      "    Branch and bound: \n",
      "      Number of bounded subproblems: 1\n",
      "      Number of created subproblems: 1\n",
      "  Error rc: 0\n",
      "  Time: 0.04399466514587402\n",
      "# ----------------------------------------------------------\n",
      "#   Solution Information\n",
      "# ----------------------------------------------------------\n",
      "Solution: \n",
      "- number of solutions: 0\n",
      "  number of solutions displayed: 0\n"
     ]
    },
    {
     "name": "stderr",
     "output_type": "stream",
     "text": [
      "C:\\Users\\20100\\AppData\\Local\\Temp\\ipykernel_4336\\1885617503.py:30: DeprecationWarning: Calling np.sum(generator) is deprecated, and in the future will give a different result. Use np.sum(np.fromiter(generator)) or the python sum builtin instead.\n",
      "  return np.sum(model.x[i]*model.Trainingcostred[i] for i in model.I) <= model.RedElexir\n",
      "C:\\Users\\20100\\AppData\\Local\\Temp\\ipykernel_4336\\1885617503.py:34: DeprecationWarning: Calling np.sum(generator) is deprecated, and in the future will give a different result. Use np.sum(np.fromiter(generator)) or the python sum builtin instead.\n",
      "  return np.sum(model.x[i]*model.TrainingcostDark[i] for i in model.I) <= model.DarkElexir\n",
      "C:\\Users\\20100\\AppData\\Local\\Temp\\ipykernel_4336\\1885617503.py:39: DeprecationWarning: Calling np.sum(generator) is deprecated, and in the future will give a different result. Use np.sum(np.fromiter(generator)) or the python sum builtin instead.\n",
      "  return np.sum(model.damage[i]* model.x[i] for i in model.I)\n",
      "C:\\Users\\20100\\AppData\\Local\\Temp\\ipykernel_4336\\1885617503.py:42: DeprecationWarning: Calling np.sum(generator) is deprecated, and in the future will give a different result. Use np.sum(np.fromiter(generator)) or the python sum builtin instead.\n",
      "  return np.sum(model.x[i]*model.Hitpoint[i] for i in model.I)\n",
      "C:\\Users\\20100\\AppData\\Local\\Temp\\ipykernel_4336\\1885617503.py:45: DeprecationWarning: Calling np.sum(generator) is deprecated, and in the future will give a different result. Use np.sum(np.fromiter(generator)) or the python sum builtin instead.\n",
      "  return np.sum(model.x[i]*model.Trainingtime[i] for i in model.I)\n"
     ]
    }
   ],
   "source": [
    "# NOTE   - IN PYOMO- we cant use more that one objective function so we have to deactivate 2 equations and just let one\n",
    "model.OF_1.activate()\n",
    "model.OF_2.deactivate()\n",
    "model.OF_3.deactivate()\n",
    "\n",
    "# create an instance of the model\n",
    "instance = model.create_instance('12_params.dat')\n",
    "\n",
    "# solve the problem\n",
    "results = solver.solve(instance)\n",
    "\n",
    "# write the results\n",
    "results.write()"
   ]
  },
  {
   "cell_type": "code",
   "execution_count": 72,
   "metadata": {},
   "outputs": [
    {
     "name": "stdout",
     "output_type": "stream",
     "text": [
      "barbarian :  0.0\n",
      "Archer    :  0.0\n",
      "Giant     :  0.0\n",
      "Goblin    :  2.0\n",
      "Drag      :  0.0\n",
      "Edrag     :  0.0\n",
      "Baloon    :  0.0\n",
      "Pekka     :  0.0\n",
      "Wizard    :  71.0\n",
      "Bowler    :  0.0\n",
      "Lava      :  0.0\n",
      "Valkyrie  :  0.0\n",
      "Hog       :  0.0\n",
      "Golem     :  0.0\n",
      "Witch     :  0.0\n",
      "Minion    :  0.0\n"
     ]
    }
   ],
   "source": [
    "X = [i for i in instance.I]\n",
    "Y = [pyo.value(instance.x[i] )for i in instance.I]\n",
    "for x, y in zip(X, Y):\n",
    "    print(f\"{x : <10}:  {y}\")"
   ]
  },
  {
   "cell_type": "code",
   "execution_count": 73,
   "metadata": {},
   "outputs": [
    {
     "data": {
      "image/png": "[encoded data removed]",
      "text/plain": [
       "<Figure size 432x288 with 1 Axes>"
      ]
     },
     "metadata": {
      "needs_background": "light"
     },
     "output_type": "display_data"
    }
   ],
   "source": [
    "plt.bar(X,Y)\n",
    "plt.xticks(rotation =90);"
   ]
  },
  {
   "cell_type": "code",
   "execution_count": null,
   "metadata": {},
   "outputs": [],
   "source": []
  }
 ],
 "metadata": {
  "kernelspec": {
   "display_name": "Python 3.8.13 ('main')",
   "language": "python",
   "name": "python3"
  },
  "language_info": {
   "codemirror_mode": {
    "name": "ipython",
    "version": 3
   },
   "file_extension": ".py",
   "mimetype": "text/x-python",
   "name": "python",
   "nbconvert_exporter": "python",
   "pygments_lexer": "ipython3",
   "version": "3.8.13"
  },
  "orig_nbformat": 4,
  "vscode": {
   "interpreter": {
    "hash": "3d91bbcd4f95c7d97193a2aece1bb930d54f2706bb0dcd2806281006b61a3a38"
   }
  }
 },
 "nbformat": 4,
 "nbformat_minor": 2
}
