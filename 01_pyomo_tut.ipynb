{
 "cells": [
  {
   "cell_type": "markdown",
   "metadata": {},
   "source": [
    "# pyomo elements\\n",
    "![](Images\2022-11-26-13-43-05.png)\n",
    "\n",
    "\n"
   ]
  },
  {
   "cell_type": "markdown",
   "metadata": {},
   "source": [
    "## There are two types of models\n",
    "###  1- Abstract models\n",
    " ![](Images\\2022-11-26-13-44-19.png)\n",
    "### 2- Concrete models\n",
    " ![](Images\\2022-11-26-13-44-37.png)\n",
    "\n",
    " ![](Images\\2022-11-26-13-45-43.png)"
   ]
  },
  {
   "cell_type": "code",
   "execution_count": 13,
   "metadata": {},
   "outputs": [],
   "source": [
    "# import pyomo\n",
    "from pyomo.environ import *"
   ]
  },
  {
   "cell_type": "markdown",
   "metadata": {},
   "source": [
    "![](Images\\2022-11-25-15-33-48.png)"
   ]
  },
  {
   "cell_type": "code",
   "execution_count": 14,
   "metadata": {},
   "outputs": [],
   "source": [
    "# Modelling the problem\n",
    "\n",
    "# Intialize the model\n",
    "model = AbstractModel()\n",
    "\n",
    "# Define the variables\n",
    "model.x1 = Var(bounds=(0,None), within= NonNegativeReals)\n",
    "model.x2 = Var(bounds=(0,None), within= NonNegativeReals)\n",
    "\n",
    "# Define the constrains\n",
    "model.eq1 = Constraint(expr=2*model.x1 + 3*model.x2<=4)\n",
    "model.eq2 = Constraint(expr=9*model.x1 + 1*model.x2<=6)\n",
    "\n",
    "# Define the objective function\n",
    "model.obj = Objective(expr=3* model.x1 + model.x2 , sense=maximize)"
   ]
  },
  {
   "cell_type": "code",
   "execution_count": 15,
   "metadata": {},
   "outputs": [
    {
     "name": "stdout",
     "output_type": "stream",
     "text": [
      "feasible\n"
     ]
    }
   ],
   "source": [
    "# Solving the problem\n",
    "\n",
    "# Initialize the solver   --> glpk open source for linear programming\n",
    "opt = SolverFactory('glpk')\n",
    "\n",
    "# create the instance for concrete problem  (in this problem we will not use file for instance parameters because we defined it in the model)\n",
    "instance = model.create_instance()\n",
    "\n",
    "# Get the results  ((Solve and update the instance))\n",
    "results = opt.solve(instance)\n",
    "\n",
    "# check if solution is feasible or not\n",
    "if (results.solver.status == SolverStatus.ok) and (results.solver.termination_condition == TerminationCondition.optimal):\n",
    "    print('feasible')\n",
    "elif (results.solver.termination_condition ==TerminationCondition.infeasible):\n",
    "    print('infeasible')\n",
    "else:\n",
    "    print('solver status: ', results.solver.status)\n"
   ]
  },
  {
   "cell_type": "code",
   "execution_count": 16,
   "metadata": {},
   "outputs": [
    {
     "data": {
      "text/plain": [
       "{'Problem': [{'Name': 'unknown', 'Lower bound': 2.64, 'Upper bound': 2.64, 'Number of objectives': 1, 'Number of constraints': 3, 'Number of variables': 3, 'Number of nonzeros': 5, 'Sense': 'maximize'}], 'Solver': [{'Status': 'ok', 'Termination condition': 'optimal', 'Statistics': {'Branch and bound': {'Number of bounded subproblems': 0, 'Number of created subproblems': 0}}, 'Error rc': 0, 'Time': 0.046000003814697266}], 'Solution': [OrderedDict([('number of solutions', 0), ('number of solutions displayed', 0)])]}"
      ]
     },
     "execution_count": 16,
     "metadata": {},
     "output_type": "execute_result"
    }
   ],
   "source": [
    "results"
   ]
  },
  {
   "cell_type": "code",
   "execution_count": 17,
   "metadata": {},
   "outputs": [
    {
     "name": "stdout",
     "output_type": "stream",
     "text": [
      "eq1 : Size=1, Index=None, Active=True\n",
      "    Key  : Lower : Body        : Upper : Active\n",
      "    None :  -Inf : 2*x1 + 3*x2 :   4.0 :   True\n",
      "eq2 : Size=1, Index=None, Active=True\n",
      "    Key  : Lower : Body      : Upper : Active\n",
      "    None :  -Inf : 9*x1 + x2 :   6.0 :   True\n"
     ]
    }
   ],
   "source": [
    "# check for instance equations\n",
    "instance.eq1.pprint()\n",
    "instance.eq2.pprint()"
   ]
  },
  {
   "cell_type": "code",
   "execution_count": 18,
   "metadata": {},
   "outputs": [
    {
     "name": "stdout",
     "output_type": "stream",
     "text": [
      "X1=  0.56\n",
      "X2=  0.96\n",
      "OF=  2.64\n"
     ]
    }
   ],
   "source": [
    "# print the optimal values\n",
    "print('X1= ', value(instance.x1))\n",
    "print('X2= ', value(instance.x2))\n",
    "print('OF= ', value(instance.obj))"
   ]
  },
  {
   "cell_type": "markdown",
   "metadata": {},
   "source": [
    "# Update the parameter values"
   ]
  },
  {
   "cell_type": "code",
   "execution_count": 19,
   "metadata": {},
   "outputs": [
    {
     "name": "stdout",
     "output_type": "stream",
     "text": [
      "feasible\n",
      "________________________\n",
      "X1=  0.571428571428571\n",
      "X2=  0.0\n",
      "OF=  1.7142857142857129\n"
     ]
    }
   ],
   "source": [
    "##########################################################################################################################\n",
    "# Modelling the problem\n",
    "##########################################################################################################################\n",
    "# Initialize the model\n",
    "model = AbstractModel()\n",
    "\n",
    "# Define the variables\n",
    "model.x1 = Var(bounds=(0,None), within= NonNegativeReals)\n",
    "model.x2 = Var(bounds=(0,None), within= NonNegativeReals)\n",
    "\n",
    "\"\"\"Define the parameters\"\"\"\n",
    "model.a11 = Param(mutable=True)\n",
    "\n",
    "# Define the constrains\n",
    "model.eq1 = Constraint(expr=model.a11*model.x1 + 3*model.x2<=4)\n",
    "model.eq2 = Constraint(expr=9*model.x1 + 1*model.x2<=6)\n",
    "\n",
    "# Define the objective function\n",
    "model.obj = Objective(expr=3* model.x1 + model.x2 , sense=maximize)\n",
    "\n",
    "##########################################################################################################################\n",
    "# Solving the problem\n",
    "##########################################################################################################################\n",
    "# Initialize the solver   --> glpk open source for linear programming\n",
    "opt = SolverFactory('glpk')\n",
    "\n",
    "# create the instance for concrete problem  (in this problem we will not use file for instance parameters because we defined it in the model)\n",
    "instance = model.create_instance()\n",
    "\n",
    "\"\"\"substiture the parameters values\"\"\"\n",
    "instance.a11 = 7\n",
    "\n",
    "# Get the results  ((Solve and update the instance))\n",
    "results = opt.solve(instance)\n",
    "\n",
    "# check if solution is feasible or not\n",
    "if (results.solver.status == SolverStatus.ok) and (results.solver.termination_condition == TerminationCondition.optimal):\n",
    "    print('feasible')\n",
    "elif (results.solver.termination_condition ==TerminationCondition.infeasible):\n",
    "    print('infeasible')\n",
    "else:\n",
    "    print('solver status: ', results.solver.status)\n",
    "\n",
    "##########################################################################################################################\n",
    "# Print the optimal values\n",
    "##########################################################################################################################\n",
    "print('________________________')\n",
    "print('X1= ', value(instance.x1))\n",
    "print('X2= ', value(instance.x2))\n",
    "print('OF= ', value(instance.obj))"
   ]
  },
  {
   "cell_type": "markdown",
   "metadata": {},
   "source": [
    "# Another problem\n",
    "![](Images\\2022-11-25-16-26-01.png)"
   ]
  },
  {
   "cell_type": "code",
   "execution_count": 20,
   "metadata": {},
   "outputs": [
    {
     "name": "stdout",
     "output_type": "stream",
     "text": [
      "Feasible\n",
      "X1:  1.33333333333333\n",
      "X2:  3.33333333333333\n",
      "OF:  12.66666666666665\n"
     ]
    }
   ],
   "source": [
    "# Modelling the problem\n",
    "model= AbstractModel()\n",
    "model.x1 = Var(bounds=(0, None), within=NonNegativeReals)\n",
    "model.x2 = Var(bounds=(0, None), within=NonNegativeReals)\n",
    "model.con1 = Constraint(expr=model.x1+2* model.x2 <=8)\n",
    "model.con2 = Constraint(expr=4*model.x1 - model.x2 <=2)\n",
    "## Another way to define the constraints or objective function\n",
    "def obj_rule(model):\n",
    "    return 2* model.x1 +3* model.x2\n",
    "model.OF = Objective(rule=obj_rule, sense=maximize)\n",
    "\n",
    "# Solve the model\n",
    "opt = SolverFactory('glpk')\n",
    "instance = model.create_instance()\n",
    "results = opt.solve(instance)\n",
    "\n",
    "# check the results\n",
    "if (results.solver.status== SolverStatus.ok) and (results.solver.termination_condition== TerminationCondition.optimal):\n",
    "    print('Feasible')\n",
    "elif (results.solver.termination_condition== TerminationCondition.infeaible):\n",
    "    print('Infeasible')\n",
    "else:\n",
    "    print('Solver Status:' , results.solver.status)\n",
    "    \n",
    "# print the optimal results\n",
    "print('X1: ', value(instance.x1))\n",
    "print('X2: ', value(instance.x2))\n",
    "print('OF: ', value(instance.OF))"
   ]
  },
  {
   "cell_type": "code",
   "execution_count": 21,
   "metadata": {},
   "outputs": [
    {
     "name": "stdout",
     "output_type": "stream",
     "text": [
      "# ==========================================================\n",
      "# = Solver Results                                         =\n",
      "# ==========================================================\n",
      "# ----------------------------------------------------------\n",
      "#   Problem Information\n",
      "# ----------------------------------------------------------\n",
      "Problem: \n",
      "- Name: unknown\n",
      "  Lower bound: 12.6666666666667\n",
      "  Upper bound: 12.6666666666667\n",
      "  Number of objectives: 1\n",
      "  Number of constraints: 3\n",
      "  Number of variables: 3\n",
      "  Number of nonzeros: 5\n",
      "  Sense: maximize\n",
      "# ----------------------------------------------------------\n",
      "#   Solver Information\n",
      "# ----------------------------------------------------------\n",
      "Solver: \n",
      "- Status: ok\n",
      "  Termination condition: optimal\n",
      "  Statistics: \n",
      "    Branch and bound: \n",
      "      Number of bounded subproblems: 0\n",
      "      Number of created subproblems: 0\n",
      "  Error rc: 0\n",
      "  Time: 0.053000688552856445\n",
      "# ----------------------------------------------------------\n",
      "#   Solution Information\n",
      "# ----------------------------------------------------------\n",
      "Solution: \n",
      "- number of solutions: 0\n",
      "  number of solutions displayed: 0\n"
     ]
    }
   ],
   "source": [
    "# analyze the results\n",
    "results.write()"
   ]
  },
  {
   "cell_type": "code",
   "execution_count": 22,
   "metadata": {},
   "outputs": [
    {
     "name": "stdout",
     "output_type": "stream",
     "text": [
      "2 Var Declarations\n",
      "    x1 : Size=1, Index=None\n",
      "        Key  : Lower : Value            : Upper : Fixed : Stale : Domain\n",
      "        None :     0 : 1.33333333333333 :  None : False : False : NonNegativeReals\n",
      "    x2 : Size=1, Index=None\n",
      "        Key  : Lower : Value            : Upper : Fixed : Stale : Domain\n",
      "        None :     0 : 3.33333333333333 :  None : False : False : NonNegativeReals\n",
      "\n",
      "1 Objective Declarations\n",
      "    OF : Size=1, Index=None, Active=True\n",
      "        Key  : Active : Sense    : Expression\n",
      "        None :   True : maximize : 2*x1 + 3*x2\n",
      "\n",
      "2 Constraint Declarations\n",
      "    con1 : Size=1, Index=None, Active=True\n",
      "        Key  : Lower : Body      : Upper : Active\n",
      "        None :  -Inf : x1 + 2*x2 :   8.0 :   True\n",
      "    con2 : Size=1, Index=None, Active=True\n",
      "        Key  : Lower : Body      : Upper : Active\n",
      "        None :  -Inf : 4*x1 - x2 :   2.0 :   True\n",
      "\n",
      "5 Declarations: x1 x2 con1 con2 OF\n"
     ]
    }
   ],
   "source": [
    "# analyze the problem\n",
    "instance.pprint()"
   ]
  },
  {
   "cell_type": "code",
   "execution_count": null,
   "metadata": {},
   "outputs": [],
   "source": []
  },
  {
   "cell_type": "code",
   "execution_count": null,
   "metadata": {},
   "outputs": [],
   "source": []
  },
  {
   "cell_type": "markdown",
   "metadata": {},
   "source": [
    "## Create a Dat file for AbstractModel\n",
    "<br> You need to have a .dat file in your directory containing the data required for filling the instance \n",
    "<br> for example :\n",
    "<br> \n",
    "### Ex1: You do have a parameter called cap in your model and this parameter is defined over two sets called i,j where\n",
    "<br> i belongs to {0,1,2,3,4,5,6}\n",
    "<br> j belongs to {0,1,2,3,4,5,6}\n",
    "<br> \n",
    "> model.cap = Param(model.i,model.j, within=Reals, mutable=True)\n",
    "\n",
    "<br> You just need to create a file with .dat extension and indicate the value for each combination of i and j (as a table) like this :\n",
    "<br> \n",
    "<br> param cap      :  0 1  2 3 4 5 6  := \n",
    "<br>                 0 0 3  3 4 0 0 0\n",
    "<br>                 1 0 0  0 0 2 0 0\n",
    "<br>                 2 0 10 0 0 1 0 0 \n",
    "<br>                 3 0 0  0 0 0 5 0 \n",
    "<br>                 4 0 0  0 0 0 1 2\n",
    "<br>                 5 0 0  0 0 0 0 5\n",
    "<br>                 6 0 0  0 0 0 0 0;\n",
    "<br> This will feed the cap values as well as the sets i,j to the model\n",
    "<br>\n",
    "### Ex2: You do have a parameter called N in your model and this parameter is a constant number and has no set\n",
    "> model.N = Param(mutable=True)\n",
    "\n",
    "<br> You just need to create a file with .dat extension and indicate the value of N like this :\n",
    "<br> \n",
    "<br> param N:=8;\n",
    "<br>\n",
    "### Ex3: You do have a parameter called R over he set i in your model\n",
    "<br>\n",
    "<br> i belongs to {0,1,2,3,4,5,6}\n",
    "\n",
    "> model.R = Param(model.i)\n",
    "\n",
    "<br> You just need to create a file with .dat extension and indicate the value of R for each element of i  like this :\n",
    "<br> \n",
    "<br> param: i: R:=\n",
    "<br>         1  2\n",
    "<br>         2  1.2\n",
    "<br>         3  1.8\n",
    "<br>         4  0.9\n",
    "<br>         5  3.2\n",
    "<br>         6  0.7;\n",
    "<br> This will feed the R values as well as the set i to the model"
   ]
  },
  {
   "cell_type": "markdown",
   "metadata": {},
   "source": [
    "## How to call a .dat file for initializing the instance in Abstract Models\n",
    "<br>Instance can be initialized with a dat file\n",
    "<br>First create your dat file as described and then save it as a Filename.dat\n",
    "<br>Call your .dat file\n",
    "> instance = model.create_instance(\"Filename.dat\")"
   ]
  },
  {
   "cell_type": "markdown",
   "metadata": {},
   "source": [
    "### Example"
   ]
  },
  {
   "cell_type": "code",
   "execution_count": 23,
   "metadata": {},
   "outputs": [],
   "source": [
    "# create the dat file\n",
    "a11_file = \"\"\"\n",
    "param a11:= 7;\n",
    "\"\"\"\n",
    "with open('01_a11.dat', 'w') as file:\n",
    "    file.write(a11_file)"
   ]
  },
  {
   "cell_type": "code",
   "execution_count": 24,
   "metadata": {},
   "outputs": [
    {
     "name": "stdout",
     "output_type": "stream",
     "text": [
      "feasible\n",
      "________________________\n",
      "X1=  0.571428571428571\n",
      "X2=  0.0\n",
      "OF=  1.7142857142857129\n"
     ]
    }
   ],
   "source": [
    "##########################################################################################################################\n",
    "# Modelling the problem\n",
    "##########################################################################################################################\n",
    "# Initialize the model\n",
    "model = AbstractModel()\n",
    "\n",
    "# Define the variables\n",
    "model.x1 = Var(bounds=(0,None), within= NonNegativeReals)\n",
    "model.x2 = Var(bounds=(0,None), within= NonNegativeReals)\n",
    "\n",
    "\"\"\"Define the parameters\"\"\"\n",
    "model.a11 = Param(mutable=True)\n",
    "\n",
    "# Define the constrains\n",
    "model.eq1 = Constraint(expr=model.a11*model.x1 + 3*model.x2<=4)\n",
    "model.eq2 = Constraint(expr=9*model.x1 + 1*model.x2<=6)\n",
    "\n",
    "# Define the objective function\n",
    "model.obj = Objective(expr=3* model.x1 + model.x2 , sense=maximize)\n",
    "\n",
    "##########################################################################################################################\n",
    "# Solving the problem\n",
    "##########################################################################################################################\n",
    "# Initialize the solver   --> glpk open source for linear programming\n",
    "opt = SolverFactory('glpk')\n",
    "\n",
    "# create the instance for concrete problem\n",
    "# read the parameters values from the Dat file\n",
    "instance = model.create_instance(\"a11.dat\")\n",
    "\n",
    "# Get the results  ((Solve and update the instance))\n",
    "results = opt.solve(instance)\n",
    "\n",
    "# check if solution is feasible or not\n",
    "if (results.solver.status == SolverStatus.ok) and (results.solver.termination_condition == TerminationCondition.optimal):\n",
    "    print('feasible')\n",
    "elif (results.solver.termination_condition ==TerminationCondition.infeasible):\n",
    "    print('infeasible')\n",
    "else:\n",
    "    print('solver status: ', results.solver.status)\n",
    "\n",
    "##########################################################################################################################\n",
    "# Print the optimal values\n",
    "##########################################################################################################################\n",
    "print('________________________')\n",
    "print('X1= ', value(instance.x1))\n",
    "print('X2= ', value(instance.x2))\n",
    "print('OF= ', value(instance.obj))"
   ]
  },
  {
   "cell_type": "code",
   "execution_count": null,
   "metadata": {},
   "outputs": [],
   "source": []
  }
 ],
 "metadata": {
  "kernelspec": {
   "display_name": "Python 3.8.13 ('main')",
   "language": "python",
   "name": "python3"
  },
  "language_info": {
   "codemirror_mode": {
    "name": "ipython",
    "version": 3
   },
   "file_extension": ".py",
   "mimetype": "text/x-python",
   "name": "python",
   "nbconvert_exporter": "python",
   "pygments_lexer": "ipython3",
   "version": "3.8.13"
  },
  "orig_nbformat": 4,
  "vscode": {
   "interpreter": {
    "hash": "3d91bbcd4f95c7d97193a2aece1bb930d54f2706bb0dcd2806281006b61a3a38"
   }
  }
 },
 "nbformat": 4,
 "nbformat_minor": 2
}
