{
 "cells": [
  {
   "cell_type": "markdown",
   "metadata": {},
   "source": [
    "![](Images/2022-11-29-23-14-59.png)"
   ]
  },
  {
   "cell_type": "code",
   "execution_count": 65,
   "metadata": {},
   "outputs": [],
   "source": [
    "# Define file of parameters\n",
    "parameters_file =\"\"\"\n",
    "param : I  : x   :=\n",
    "        1   0.18\n",
    "        2   0.17\n",
    "        3   0.47\n",
    "        4   0.95\n",
    "        5   0.90;\n",
    "\n",
    "param :   I   : y :=\n",
    "        1    0.21\n",
    "        2    0.22\n",
    "        3    0.47\n",
    "        4    0.40\n",
    "        5    0.50;\n",
    "\"\"\"\n",
    "with open('13_params.dat', 'w') as file:\n",
    "    file.write(parameters_file)"
   ]
  },
  {
   "cell_type": "code",
   "execution_count": 66,
   "metadata": {},
   "outputs": [],
   "source": [
    "# import libraries\n",
    "import pyomo.environ as pyo\n",
    "import numpy as np\n",
    "import matplotlib.pyplot as plt"
   ]
  },
  {
   "cell_type": "code",
   "execution_count": 67,
   "metadata": {},
   "outputs": [
    {
     "name": "stdout",
     "output_type": "stream",
     "text": [
      "# ==========================================================\n",
      "# = Solver Results                                         =\n",
      "# ==========================================================\n",
      "# ----------------------------------------------------------\n",
      "#   Problem Information\n",
      "# ----------------------------------------------------------\n",
      "Problem: \n",
      "- Lower bound: -inf\n",
      "  Upper bound: inf\n",
      "  Number of objectives: 1\n",
      "  Number of constraints: 9\n",
      "  Number of variables: 3\n",
      "  Sense: unknown\n",
      "# ----------------------------------------------------------\n",
      "#   Solver Information\n",
      "# ----------------------------------------------------------\n",
      "Solver: \n",
      "- Status: ok\n",
      "  Message: Ipopt 3.11.1\\x3a Optimal Solution Found\n",
      "  Termination condition: optimal\n",
      "  Id: 0\n",
      "  Error rc: 0\n",
      "  Time: 0.13399982452392578\n",
      "# ----------------------------------------------------------\n",
      "#   Solution Information\n",
      "# ----------------------------------------------------------\n",
      "Solution: \n",
      "- number of solutions: 0\n",
      "  number of solutions displayed: 0\n"
     ]
    }
   ],
   "source": [
    "# initialize the abstract model\n",
    "model = pyo.AbstractModel()\n",
    "\n",
    "# Declare the parameters and the variables\n",
    "model.I = pyo.Set()\n",
    "model.x = pyo.Param(model.I)\n",
    "model.y = pyo.Param(model.I)\n",
    "\n",
    "# define the lower constraint in the bounds # we can't use R in bounds because it is a variable\n",
    "model.R = pyo.Var(bounds=(0,1), within=pyo.NonNegativeReals, initialize=0)\n",
    "model.X = pyo.Var(bounds=(0,1), within=pyo.NonNegativeReals, initialize=0.5)\n",
    "model.Y = pyo.Var(bounds=(0,1), within=pyo.NonNegativeReals, initialize=0.5)\n",
    "\n",
    "# Declare the constraints\n",
    "model.c1 = pyo.Constraint(expr= model.X <= 1- model.R)\n",
    "model.c2 = pyo.Constraint(expr= model.Y <= 1- model.R)\n",
    "model.c3 = pyo.Constraint(expr= model.X >= model.R)\n",
    "model.c4 = pyo.Constraint(expr= model.Y >= model.R)\n",
    "\n",
    "def con_05_rule(model,i):\n",
    "    return  (model.X - model.x[i])**2 + (model.Y - model.y[i])**2 >= model.R**2\n",
    "model.c5 = pyo.Constraint(model.I, rule=con_05_rule)\n",
    "\n",
    "# Declare the objective function\n",
    "model.OF = pyo.Objective(expr=model.R, sense=pyo.maximize)\n",
    "\n",
    "# Define the solver\n",
    "solver = pyo.SolverFactory('ipopt')\n",
    "instance = model.create_instance(\"13_params.dat\")\n",
    "results = solver.solve(instance)\n",
    "\n",
    "results.write()"
   ]
  },
  {
   "cell_type": "code",
   "execution_count": 68,
   "metadata": {},
   "outputs": [
    {
     "data": {
      "text/plain": [
       "<matplotlib.patches.Circle at 0x223610bd4c0>"
      ]
     },
     "execution_count": 68,
     "metadata": {},
     "output_type": "execute_result"
    },
    {
     "data": {
      "image/png": "[encoded data removed]",
      "text/plain": [
       "<Figure size 720x720 with 1 Axes>"
      ]
     },
     "metadata": {
      "needs_background": "light"
     },
     "output_type": "display_data"
    }
   ],
   "source": [
    "plt.figure(figsize=(10,10))\n",
    "ax= plt.subplot()\n",
    "plt.plot([0,0,1,1,0],[0,1,1,0,0])\n",
    "plt.xlabel(\"X\")\n",
    "plt.ylabel(\"Y\")\n",
    "x= [pyo.value(instance.x[i]) for i in instance.I]\n",
    "y= [pyo.value(instance.y[i]) for i in instance.I]\n",
    "plt.scatter(x,y)\n",
    "\n",
    "# plot the circle\n",
    "circle = plt.Circle((pyo.value(instance.X), pyo.value(instance.Y)), pyo.value(instance.R))\n",
    "ax.add_patch(circle)"
   ]
  },
  {
   "cell_type": "code",
   "execution_count": 60,
   "metadata": {},
   "outputs": [
    {
     "data": {
      "text/plain": [
       "((0.670196037823825, 0.6971901357508525), 0.3028098683573287)"
      ]
     },
     "execution_count": 60,
     "metadata": {},
     "output_type": "execute_result"
    }
   ],
   "source": [
    "(pyo.value(instance.X), pyo.value(instance.Y)), pyo.value(instance.R)"
   ]
  },
  {
   "cell_type": "code",
   "execution_count": null,
   "metadata": {},
   "outputs": [],
   "source": []
  }
 ],
 "metadata": {
  "kernelspec": {
   "display_name": "Python 3.8.13 ('main')",
   "language": "python",
   "name": "python3"
  },
  "language_info": {
   "codemirror_mode": {
    "name": "ipython",
    "version": 3
   },
   "file_extension": ".py",
   "mimetype": "text/x-python",
   "name": "python",
   "nbconvert_exporter": "python",
   "pygments_lexer": "ipython3",
   "version": "3.8.13"
  },
  "orig_nbformat": 4,
  "vscode": {
   "interpreter": {
    "hash": "3d91bbcd4f95c7d97193a2aece1bb930d54f2706bb0dcd2806281006b61a3a38"
   }
  }
 },
 "nbformat": 4,
 "nbformat_minor": 2
}
